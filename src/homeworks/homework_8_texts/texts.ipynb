{
  "cells": [
    {
      "cell_type": "markdown",
      "metadata": {
        "id": "WYC9jXnTRvW3"
      },
      "source": [
        "# Работа с текстом\n",
        "\n",
        "В этом домашнем задании вам предстоит поработать с текстовыми данными и научиться находить спам сообщения!"
      ]
    },
    {
      "cell_type": "code",
      "execution_count": null,
      "metadata": {
        "id": "gmljLzJDRvW4"
      },
      "outputs": [],
      "source": [
        "import inspect\n",
        "import math\n",
        "import random\n",
        "import re\n",
        "from collections import Counter, defaultdict\n",
        "from string import punctuation\n",
        "\n",
        "import numpy as np\n",
        "from tqdm import tqdm\n",
        "from nltk import SnowballStemmer, download\n",
        "from sklearn.metrics import accuracy_score\n",
        "from nltk.corpus import stopwords\n",
        "import matplotlib.pyplot as plt\n",
        "from sklearn.linear_model import LogisticRegression\n",
        "from sklearn.metrics import classification_report\n",
        "from sklearn.model_selection import train_test_split"
      ]
    },
    {
      "cell_type": "code",
      "execution_count": null,
      "metadata": {
        "id": "nllPeX1xACLr",
        "colab": {
          "base_uri": "https://localhost:8080/"
        },
        "outputId": "066e06d2-9fdd-4aaa-c296-87cd4e104287"
      },
      "outputs": [
        {
          "output_type": "stream",
          "name": "stderr",
          "text": [
            "[nltk_data] Downloading package stopwords to /root/nltk_data...\n",
            "[nltk_data]   Unzipping corpora/stopwords.zip.\n"
          ]
        },
        {
          "output_type": "execute_result",
          "data": {
            "text/plain": [
              "True"
            ]
          },
          "metadata": {},
          "execution_count": 2
        }
      ],
      "source": [
        "download(\"stopwords\")"
      ]
    },
    {
      "cell_type": "code",
      "execution_count": null,
      "metadata": {
        "pycharm": {
          "name": "#%%\n"
        },
        "id": "XTU13-rOACLr"
      },
      "outputs": [],
      "source": [
        "def set_seed(seed=42):\n",
        "    np.random.seed(seed)\n",
        "    random.seed(seed)\n",
        "\n",
        "\n",
        "# Этой функцией будут помечены все места, которые необходимо дозаполнить\n",
        "# Это могут быть как целые функции, так и отдельные части внутри них\n",
        "# Всегда можно воспользоваться интроспекцией и найти места использования этой функции :)\n",
        "def todo():\n",
        "    stack = inspect.stack()\n",
        "    caller_frame = stack[1]\n",
        "    function_name = caller_frame.function\n",
        "    line_number = caller_frame.lineno\n",
        "    raise NotImplementedError(f\"TODO at {function_name}, line {line_number}\")\n",
        "\n",
        "\n",
        "SEED = 0xC0FFEE\n",
        "set_seed(SEED)"
      ]
    },
    {
      "cell_type": "code",
      "execution_count": null,
      "metadata": {
        "id": "VRJVvs51RvW4"
      },
      "outputs": [],
      "source": [
        "def read_dataset(filename):\n",
        "    x, y = [], []\n",
        "    with open(filename, encoding=\"utf-8\") as file:\n",
        "        for line in file:\n",
        "            cl, sms = re.split(r\"^(ham|spam)[\\t\\s]+(.*)$\", line)[1:3]\n",
        "            x.append(sms)\n",
        "            y.append(cl)\n",
        "    return x, y"
      ]
    },
    {
      "cell_type": "code",
      "execution_count": null,
      "metadata": {
        "id": "9YKoYXwsRvW5"
      },
      "outputs": [],
      "source": [
        "X, y = read_dataset(\"spam.txt\")"
      ]
    },
    {
      "cell_type": "code",
      "execution_count": null,
      "metadata": {
        "id": "GCmIbwv6RvW5"
      },
      "outputs": [],
      "source": [
        "X_train, X_test, y_train, y_test = train_test_split(X, y, train_size=0.9, random_state=SEED, stratify=y)"
      ]
    },
    {
      "cell_type": "code",
      "execution_count": null,
      "metadata": {
        "pycharm": {
          "name": "#%%\n"
        },
        "id": "Isg1F2ClACLt",
        "colab": {
          "base_uri": "https://localhost:8080/"
        },
        "outputId": "7cafcb92-3f07-45c4-b6f2-29b19250ead1"
      },
      "outputs": [
        {
          "output_type": "stream",
          "name": "stdout",
          "text": [
            "ham: Two fundamentals of cool life: \"Walk, like you are the KING\"...! OR \"Walk like you Dont care,whoever is the KING\"!... Gud nyt\n",
            "ham: Haha... Where got so fast lose weight, thk muz go 4 a month den got effect... Gee,later we go aust put bk e weight.\n",
            "ham: I wish things were different. I wonder when i will be able to show you how much i value you. Pls continue the brisk walks no drugs without askin me please and find things to laugh about. I love you dearly.\n",
            "ham: Tmr then ü brin lar... Aiya later i come n c lar... Mayb ü neva set properly ü got da help sheet wif ü...\n",
            "ham: For many things its an antibiotic and it can be used for chest abdomen and gynae infections even bone infections.\n"
          ]
        }
      ],
      "source": [
        "for x_, y_ in zip(X_train[:5], y_train[:5]):\n",
        "    print(f\"{y_}: {x_}\")"
      ]
    },
    {
      "cell_type": "code",
      "execution_count": null,
      "metadata": {
        "id": "kX5UHxOiACLu",
        "colab": {
          "base_uri": "https://localhost:8080/"
        },
        "outputId": "ba794179-d0d0-4f37-f872-6d48ec5cf0ef"
      },
      "outputs": [
        {
          "output_type": "execute_result",
          "data": {
            "text/plain": [
              "Counter({'ham': 4344, 'spam': 672})"
            ]
          },
          "metadata": {},
          "execution_count": 11
        }
      ],
      "source": [
        "Counter(y_train)"
      ]
    },
    {
      "cell_type": "code",
      "source": [
        "def visualize_words_frequency(text: list[str], vectoriser) -> None:\n",
        "    tokens = []\n",
        "    for sentence in text:\n",
        "        tokens.extend(vectoriser._tokenize(sentence))\n",
        "\n",
        "    word_counts = Counter(tokens)\n",
        "    sorted_counts = sorted(word_counts.values(), reverse=True)\n",
        "\n",
        "    plt.figure(figsize=(12, 6))\n",
        "    plt.plot(range(1, len(sorted_counts)+1), sorted_counts, 'b-')\n",
        "    plt.xscale('log')\n",
        "    plt.yscale('log')\n",
        "    plt.xlabel(\"Word rank\")\n",
        "    plt.ylabel(\"Frequency\")\n",
        "    plt.title(\"Frequency distribution of words\")\n",
        "    plt.grid(True)\n",
        "    plt.show()"
      ],
      "metadata": {
        "id": "VndRK5qykQPI"
      },
      "execution_count": null,
      "outputs": []
    },
    {
      "cell_type": "code",
      "source": [
        "def find_optimal_vocab_size(X_train, y_train, X_test, y_test, vectorizer, classifier, vocab_range):\n",
        "    results = []\n",
        "    best_score = 0\n",
        "    best_size = None\n",
        "\n",
        "    for size in tqdm(vocab_range):\n",
        "        vect = vectorizer(vocabulary_size=size)\n",
        "\n",
        "        X_train_vec = vect.fit_transform(X_train)\n",
        "        X_test_vec = vect.transform(X_test)\n",
        "\n",
        "        classifier.fit(X_train_vec, y_train)\n",
        "\n",
        "        y_pred = classifier.predict(X_test_vec)\n",
        "        score = accuracy_score(y_test, y_pred)\n",
        "\n",
        "        results.append((size, score))\n",
        "\n",
        "        if score > best_score:\n",
        "            best_score = score\n",
        "            best_size = size\n",
        "\n",
        "    return {\n",
        "        'best_size': best_size,\n",
        "        'best_score': best_score,\n",
        "        'results': results\n",
        "    }"
      ],
      "metadata": {
        "id": "5WkbmbZBkVze"
      },
      "execution_count": null,
      "outputs": []
    },
    {
      "cell_type": "markdown",
      "metadata": {
        "id": "HzAcgm1rACLu"
      },
      "source": [
        "## Bag of Words (2 балла)\n",
        "\n",
        "Реализуйте простой подсчет слов в тексте, в качестве токенизатора делите по пробелу, убрав перед этим все знаки пунктуации и приведя к нижнему регистру.\n",
        "\n",
        "После этого обучите простую логистическую модель, измерьте ее качество и сделайте выводы."
      ]
    },
    {
      "cell_type": "code",
      "execution_count": null,
      "metadata": {
        "id": "lZsEPDLBACLu"
      },
      "outputs": [],
      "source": [
        "class BagOfWords:\n",
        "    def __init__(self, vocabulary_size: int = 1000):\n",
        "        \"\"\"Init Bag-of-Words instance\n",
        "\n",
        "        Args:\n",
        "            vocabulary_size: maximum number of tokens in vocabulary\n",
        "        \"\"\"\n",
        "        self._vocabulary_size = vocabulary_size\n",
        "        self._vocabulary: dict[str, int] = None\n",
        "\n",
        "    def _tokenize(self, sentence: str) -> list[str]:\n",
        "        sentence = re.sub(r'[^\\w\\s]', '', sentence.lower())\n",
        "        return sentence.split()\n",
        "\n",
        "    def fit(self, sentences: list[str]):\n",
        "        \"\"\"Fit Bag-of-Words based on list of sentences\"\"\"\n",
        "        word_counts = Counter()\n",
        "\n",
        "        for sentence in sentences:\n",
        "            tokens = self._tokenize(sentence)\n",
        "            word_counts.update(tokens)\n",
        "\n",
        "        sorted_words = word_counts.most_common(self._vocabulary_size)\n",
        "\n",
        "        self._vocabulary = {word: i for i, (word, _) in enumerate(sorted_words)}\n",
        "\n",
        "    def transform(self, sentences: list[str]) -> np.ndarray:\n",
        "        \"\"\"Vectorize texts using built vocabulary\n",
        "\n",
        "        Args:\n",
        "            sentences: list of sentences to vectorize\n",
        "\n",
        "        Return:\n",
        "            transformed texts, matrix of (n_sentences, vocab_size)\n",
        "        \"\"\"\n",
        "        if self._vocabulary is None:\n",
        "            raise RuntimeError(\"Fit before transforming!\")\n",
        "\n",
        "        vectors = np.zeros((len(sentences), self._vocabulary_size))\n",
        "\n",
        "        for i, sentence in enumerate(sentences):\n",
        "            tokens = self._tokenize(sentence)\n",
        "            for token in tokens:\n",
        "                if token in self._vocabulary:\n",
        "                    vectors[i, self._vocabulary[token]] += 1\n",
        "\n",
        "        return vectors\n",
        "\n",
        "\n",
        "    def fit_transform(self, sentences: list[str]) -> np.ndarray:\n",
        "        self.fit(sentences)\n",
        "        return self.transform(sentences)"
      ]
    },
    {
      "cell_type": "code",
      "source": [
        "visualize_words_frequency(X_train, BagOfWords())"
      ],
      "metadata": {
        "colab": {
          "base_uri": "https://localhost:8080/",
          "height": 569
        },
        "id": "4NF49eFaM5Ck",
        "outputId": "24989fb8-167e-49c4-d993-4ba1e8ad923b"
      },
      "execution_count": null,
      "outputs": [
        {
          "output_type": "display_data",
          "data": {
            "text/plain": [
              "<Figure size 1200x600 with 1 Axes>"
            ],
            "image/png": "[encoded data removed]"
          },
          "metadata": {}
        }
      ]
    },
    {
      "cell_type": "markdown",
      "source": [
        "По графику видно, что слова, ранг которых больше 4000, встречаются всего 1 раз. Существенный скачок частоты слов происходит примерно на 500 слове и далее начинается всё более выраженная \"лесенка\". Поэтому для выбора оптимального размера словаря можно рассматривать интервал от 400 до 800."
      ],
      "metadata": {
        "id": "y5AiQkeMBaiW"
      }
    },
    {
      "cell_type": "code",
      "source": [
        "results = find_optimal_vocab_size(X_train, y_train, X_test, y_test, BagOfWords, LogisticRegression(), range(400, 800, 20))\n",
        "print(f\"Best size: {results['best_size']}, Best score: {results['best_score']}\")"
      ],
      "metadata": {
        "colab": {
          "base_uri": "https://localhost:8080/"
        },
        "id": "jUxF5LizgQhW",
        "outputId": "17a4288d-6ea6-4e02-f19d-69193834281f"
      },
      "execution_count": null,
      "outputs": [
        {
          "output_type": "stream",
          "name": "stderr",
          "text": [
            "100%|██████████| 20/20 [00:11<00:00,  1.74it/s]"
          ]
        },
        {
          "output_type": "stream",
          "name": "stdout",
          "text": [
            "Best size: 500, Best score: 0.9910394265232975\n"
          ]
        },
        {
          "output_type": "stream",
          "name": "stderr",
          "text": [
            "\n"
          ]
        }
      ]
    },
    {
      "cell_type": "code",
      "execution_count": null,
      "metadata": {
        "id": "VuSY9FEARvW5",
        "colab": {
          "base_uri": "https://localhost:8080/"
        },
        "outputId": "1b5c802d-3070-4e74-870b-b60ff4c9d613"
      },
      "outputs": [
        {
          "output_type": "execute_result",
          "data": {
            "text/plain": [
              "((5016, 500), (558, 500))"
            ]
          },
          "metadata": {},
          "execution_count": 95
        }
      ],
      "source": [
        "# Подберите оптимальный размер словаря\n",
        "\n",
        "\n",
        "bow = BagOfWords(vocabulary_size=500)\n",
        "X_train_bow = bow.fit_transform(X_train)\n",
        "X_test_bow = bow.transform(X_test)\n",
        "\n",
        "X_train_bow.shape, X_test_bow.shape"
      ]
    },
    {
      "cell_type": "code",
      "execution_count": null,
      "metadata": {
        "id": "_cKMLYwMACLv",
        "colab": {
          "base_uri": "https://localhost:8080/"
        },
        "outputId": "3a31bfcd-91c7-4228-c5a3-f7b284d6bfe4"
      },
      "outputs": [
        {
          "output_type": "stream",
          "name": "stdout",
          "text": [
            "              precision    recall  f1-score   support\n",
            "\n",
            "         ham       0.99      1.00      0.99       483\n",
            "        spam       0.99      0.95      0.97        75\n",
            "\n",
            "    accuracy                           0.99       558\n",
            "   macro avg       0.99      0.97      0.98       558\n",
            "weighted avg       0.99      0.99      0.99       558\n",
            "\n"
          ]
        }
      ],
      "source": [
        "model = LogisticRegression()\n",
        "model.fit(X_train_bow, y_train)\n",
        "\n",
        "y_pred = model.predict(X_test_bow)\n",
        "print(classification_report(y_test, y_pred))"
      ]
    },
    {
      "cell_type": "markdown",
      "metadata": {
        "id": "KI089XBzACLv"
      },
      "source": [
        "## Обработка текста (1 балл)\n",
        "\n",
        "Добавьте на этапе токенизатора удаление стоп-слов и стемминг, для этого можно воспользоваться [`SnowballStemmer`](https://www.nltk.org/api/nltk.stem.SnowballStemmer.html) из библиотеки `nltk`.\n",
        "\n",
        "⚠️ `nltk` уже довольно устаревшая библиотека и скорее не рекомендуется ее использовать, однако в учебных целях более чем достаточно.\n",
        "\n",
        "Обучите логистическую регрессию, попробуйте по-разному комбинировать стемминг и удаление стоп-слов, сделайте выводы."
      ]
    },
    {
      "cell_type": "code",
      "execution_count": null,
      "metadata": {
        "id": "yttB8gqVACLv"
      },
      "outputs": [],
      "source": [
        "class BagOfWordsStem(BagOfWords):\n",
        "    def __init__(\n",
        "        self,\n",
        "        vocabulary_size: int = 1000,\n",
        "        language: str = \"english\",\n",
        "        ignore_stopwords: bool = True,\n",
        "        remove_stopwords: bool = True,\n",
        "    ):\n",
        "        super().__init__(vocabulary_size)\n",
        "        if remove_stopwords and not ignore_stopwords:\n",
        "            raise ValueError(\"To remove stop-words they should be ignored by stemmer\")\n",
        "\n",
        "        self._stemmer = SnowballStemmer(language, ignore_stopwords=ignore_stopwords)\n",
        "        self._stopwords = stopwords.words(language)\n",
        "        self._remove_stopwords = remove_stopwords\n",
        "\n",
        "    def _tokenize(self, sentence: str) -> list[str]:\n",
        "        sentence = re.sub(r'[^\\w\\s]', '', sentence.lower())\n",
        "        tokens = sentence.split()\n",
        "\n",
        "        if self._remove_stopwords:\n",
        "            tokens = [token for token in tokens if token not in self._stopwords]\n",
        "\n",
        "        stemmed_tokens = [self._stemmer.stem(token) for token in tokens]\n",
        "\n",
        "        return stemmed_tokens"
      ]
    },
    {
      "cell_type": "code",
      "source": [
        "visualize_words_frequency(X_train, BagOfWordsStem())"
      ],
      "metadata": {
        "colab": {
          "base_uri": "https://localhost:8080/",
          "height": 569
        },
        "id": "x_fswSCmQgae",
        "outputId": "1e811eec-1790-46bc-dae8-1cc6b5534529"
      },
      "execution_count": null,
      "outputs": [
        {
          "output_type": "display_data",
          "data": {
            "text/plain": [
              "<Figure size 1200x600 with 1 Axes>"
            ],
            "image/png": "[encoded data removed]"
          },
          "metadata": {}
        }
      ]
    },
    {
      "cell_type": "markdown",
      "source": [
        "На графике видно, что существенный скачок в частоте и переход на более выраженную \"лесенку\" происходит примерно на 400 слове. Для выбора оптимального размера словаря можно рассматривать интервал от 300 до 800 слов."
      ],
      "metadata": {
        "id": "HuzlIigic3P2"
      }
    },
    {
      "cell_type": "code",
      "source": [
        "results = find_optimal_vocab_size(X_train, y_train, X_test, y_test, BagOfWordsStem, LogisticRegression(), range(300, 800, 20))\n",
        "print(f\"Best size: {results['best_size']}, Best score: {results['best_score']}\")"
      ],
      "metadata": {
        "colab": {
          "base_uri": "https://localhost:8080/"
        },
        "id": "78FW65XiiwHJ",
        "outputId": "ef6dce09-eb58-42b7-8603-164d528c2b06"
      },
      "execution_count": null,
      "outputs": [
        {
          "output_type": "stream",
          "name": "stderr",
          "text": [
            "100%|██████████| 25/25 [00:52<00:00,  2.09s/it]"
          ]
        },
        {
          "output_type": "stream",
          "name": "stdout",
          "text": [
            "Best size: 540, Best score: 0.992831541218638\n"
          ]
        },
        {
          "output_type": "stream",
          "name": "stderr",
          "text": [
            "\n"
          ]
        }
      ]
    },
    {
      "cell_type": "code",
      "execution_count": null,
      "metadata": {
        "id": "7ROhMn0bACLv",
        "colab": {
          "base_uri": "https://localhost:8080/"
        },
        "outputId": "eb138c5a-e8d8-4e48-b93f-33fa9b04584e"
      },
      "outputs": [
        {
          "output_type": "execute_result",
          "data": {
            "text/plain": [
              "((5016, 540), (558, 540))"
            ]
          },
          "metadata": {},
          "execution_count": 77
        }
      ],
      "source": [
        "# Подберите оптимальный размер словаря\n",
        "\n",
        "\n",
        "bow = BagOfWordsStem(vocabulary_size=540, ignore_stopwords=True, remove_stopwords=True)\n",
        "X_train_bow = bow.fit_transform(X_train)\n",
        "X_test_bow = bow.transform(X_test)\n",
        "\n",
        "X_train_bow.shape, X_test_bow.shape"
      ]
    },
    {
      "cell_type": "code",
      "execution_count": null,
      "metadata": {
        "id": "yUU-BcQ1ACLv",
        "colab": {
          "base_uri": "https://localhost:8080/"
        },
        "outputId": "b283c0ac-ed14-4e34-ca5c-39b678e58773"
      },
      "outputs": [
        {
          "output_type": "stream",
          "name": "stdout",
          "text": [
            "              precision    recall  f1-score   support\n",
            "\n",
            "         ham       0.99      1.00      1.00       483\n",
            "        spam       1.00      0.95      0.97        75\n",
            "\n",
            "    accuracy                           0.99       558\n",
            "   macro avg       1.00      0.97      0.98       558\n",
            "weighted avg       0.99      0.99      0.99       558\n",
            "\n"
          ]
        }
      ],
      "source": [
        "model = LogisticRegression()\n",
        "model.fit(X_train_bow, y_train)\n",
        "\n",
        "y_pred = model.predict(X_test_bow)\n",
        "print(classification_report(y_test, y_pred))"
      ]
    },
    {
      "cell_type": "markdown",
      "metadata": {
        "id": "2_IOo98iACLw"
      },
      "source": [
        "## TF-IDF (2 балла)\n",
        "\n",
        "Доработайте предыдущий класс до полноценного Tf-Idf, затем, аналогично, проведите эксперименты с логистической регрессией."
      ]
    },
    {
      "cell_type": "code",
      "execution_count": null,
      "metadata": {
        "id": "6rzQ5sUOACLw"
      },
      "outputs": [],
      "source": [
        "class TFIDFVectorizer:\n",
        "    def __init__(\n",
        "        self,\n",
        "        vocabulary_size: int,\n",
        "        language: str = \"english\",\n",
        "        ignore_stopwords: bool = True,\n",
        "        remove_stopwords: bool = True,\n",
        "        use_idf: bool = False,\n",
        "    ):\n",
        "        self._vocabulary_size = vocabulary_size\n",
        "        self._vocabulary = None\n",
        "        self._idf = None\n",
        "        self._use_idf = use_idf\n",
        "\n",
        "        if remove_stopwords and not ignore_stopwords:\n",
        "            raise ValueError(\"To remove stop-words they should be ignored by stemmer\")\n",
        "        self._stemmer = SnowballStemmer(language, ignore_stopwords=ignore_stopwords)\n",
        "        self._stopwords = stopwords.words(language)\n",
        "        self._remove_stopwords = remove_stopwords\n",
        "\n",
        "    def _tokenize(self, sentence: str) -> list[str]:\n",
        "        sentence = re.sub(r'[^\\w\\s]', '', sentence.lower())\n",
        "        tokens = sentence.split()\n",
        "\n",
        "        if self._remove_stopwords:\n",
        "            tokens = [token for token in tokens if token not in self._stopwords]\n",
        "\n",
        "        stemmed_tokens = [self._stemmer.stem(token) for token in tokens]\n",
        "\n",
        "        return stemmed_tokens\n",
        "\n",
        "    def fit(self, sentences: list[str]):\n",
        "        \"\"\"Build vocabulary and compute IDF\"\"\"\n",
        "        n_docs = len(sentences)\n",
        "        corpus_token_counts = Counter()\n",
        "        document_token_counts = defaultdict(int)\n",
        "\n",
        "        for sentence in sentences:\n",
        "            tokens = self._tokenize(sentence)\n",
        "            corpus_token_counts.update(tokens)\n",
        "\n",
        "            for token in set(tokens):\n",
        "                document_token_counts[token] += 1\n",
        "\n",
        "        most_common_tokens = corpus_token_counts.most_common(self._vocabulary_size)\n",
        "        self._vocabulary = {token: idx for idx, (token, count) in enumerate(most_common_tokens)}\n",
        "\n",
        "        if self._use_idf:\n",
        "            self._idf = {}\n",
        "            for token in self._vocabulary.keys():\n",
        "                df = document_token_counts.get(token, 0)\n",
        "                self._idf[token] = math.log((n_docs + 1) / (df + 1)) + 1\n",
        "\n",
        "    def transform(self, sentences: list[str]) -> np.ndarray:\n",
        "        \"\"\"Transform sentences to TF-IDF vectors\"\"\"\n",
        "        if self._vocabulary is None:\n",
        "            raise RuntimeError(\"Fit the vectorizer first.\")\n",
        "\n",
        "        vectors = np.zeros((len(sentences), len(self._vocabulary)))\n",
        "\n",
        "        for i, doc in enumerate(sentences):\n",
        "            tokens = self._tokenize(doc)\n",
        "            token_counts = Counter(tokens)\n",
        "            doc_len = len(tokens)\n",
        "\n",
        "            for token, count in token_counts.items():\n",
        "                if token in self._vocabulary:\n",
        "                    idx = self._vocabulary[token]\n",
        "                    tf = count\n",
        "\n",
        "                    if self._use_idf:\n",
        "                        vectors[i, idx] = tf * self._idf[token]\n",
        "                    else:\n",
        "                        vectors[i, idx] = tf\n",
        "\n",
        "        return vectors\n",
        "\n",
        "    def fit_transform(self, sentences: list[str]) -> np.ndarray:\n",
        "        self.fit(sentences)\n",
        "        return self.transform(sentences)"
      ]
    },
    {
      "cell_type": "code",
      "source": [
        "visualize_words_frequency(X_train, TFIDFVectorizer(vocabulary_size=1000))"
      ],
      "metadata": {
        "colab": {
          "base_uri": "https://localhost:8080/",
          "height": 569
        },
        "id": "Q1S9Q_y95QvR",
        "outputId": "49a3a901-fab2-4c08-967d-72f475e19124"
      },
      "execution_count": null,
      "outputs": [
        {
          "output_type": "display_data",
          "data": {
            "text/plain": [
              "<Figure size 1200x600 with 1 Axes>"
            ],
            "image/png": "[encoded data removed]"
          },
          "metadata": {}
        }
      ]
    },
    {
      "cell_type": "markdown",
      "source": [
        "Видно, что существенный скачок частоты происходит примерно на 400 слове. Поэтому для оптимального размера словаря подойдут значения из интервала от 300 до 800 слов."
      ],
      "metadata": {
        "id": "eUmRfNNgWSbf"
      }
    },
    {
      "cell_type": "code",
      "source": [
        "results = find_optimal_vocab_size(X_train, y_train, X_test, y_test, TFIDFVectorizer, LogisticRegression(), range(300, 800, 20))\n",
        "print(f\"Best size: {results['best_size']}, Best score: {results['best_score']}\")"
      ],
      "metadata": {
        "colab": {
          "base_uri": "https://localhost:8080/"
        },
        "id": "XCJ698Z_5dRS",
        "outputId": "e84fe1c3-bf36-4cfb-8237-048eaad86c4c"
      },
      "execution_count": null,
      "outputs": [
        {
          "output_type": "stream",
          "name": "stderr",
          "text": [
            "100%|██████████| 25/25 [00:55<00:00,  2.24s/it]"
          ]
        },
        {
          "output_type": "stream",
          "name": "stdout",
          "text": [
            "Best size: 540, Best score: 0.992831541218638\n"
          ]
        },
        {
          "output_type": "stream",
          "name": "stderr",
          "text": [
            "\n"
          ]
        }
      ]
    },
    {
      "cell_type": "code",
      "execution_count": null,
      "metadata": {
        "id": "iyVh0Cz2ACLw",
        "colab": {
          "base_uri": "https://localhost:8080/"
        },
        "outputId": "21a1344d-c549-4472-c616-ef2fa89340ea"
      },
      "outputs": [
        {
          "output_type": "execute_result",
          "data": {
            "text/plain": [
              "((5016, 540), (558, 540))"
            ]
          },
          "metadata": {},
          "execution_count": 23
        }
      ],
      "source": [
        "# Подберите оптимальный размер словаря\n",
        "\n",
        "\n",
        "tfidf = TFIDFVectorizer(vocabulary_size=540, remove_stopwords=True, use_idf=True)\n",
        "X_train_tfidf = tfidf.fit_transform(X_train)\n",
        "X_test_tfidf = tfidf.transform(X_test)\n",
        "\n",
        "X_train_tfidf.shape, X_test_tfidf.shape"
      ]
    },
    {
      "cell_type": "code",
      "execution_count": null,
      "metadata": {
        "id": "sg_Gac-jACLw",
        "colab": {
          "base_uri": "https://localhost:8080/"
        },
        "outputId": "f3126e97-3a0d-47fe-b5ae-261956993820"
      },
      "outputs": [
        {
          "output_type": "stream",
          "name": "stdout",
          "text": [
            "              precision    recall  f1-score   support\n",
            "\n",
            "         ham       0.99      0.99      0.99       483\n",
            "        spam       0.94      0.96      0.95        75\n",
            "\n",
            "    accuracy                           0.99       558\n",
            "   macro avg       0.96      0.97      0.97       558\n",
            "weighted avg       0.99      0.99      0.99       558\n",
            "\n"
          ]
        }
      ],
      "source": [
        "model = LogisticRegression()\n",
        "model.fit(X_train_tfidf, y_train)\n",
        "\n",
        "y_pred = model.predict(X_test_tfidf)\n",
        "print(classification_report(y_test, y_pred))"
      ]
    },
    {
      "cell_type": "markdown",
      "metadata": {
        "id": "oJe5cDxDRvW5"
      },
      "source": [
        "## NaiveBayes (5 баллов)\n",
        "\n",
        "Наивный байесовский классификатор — это простой и эффективный алгоритм машинного обучения, основанный на теореме Байеса с наивным предположением независимости признаков.\n",
        "\n",
        "### Формула Байеса\n",
        "\n",
        "$$\n",
        "P(A|B) = \\frac{P(B|A) \\cdot P(A)}{P(B)}\n",
        "$$\n",
        "\n",
        "В контексте классификации текста это значит: $P(класс | документ) \\propto P(класс) \\cdot P(документ | класс)$\n",
        "\n",
        "Почему \"наивность\"? Потому что предпологаем, что все слова независимы:\n",
        "\n",
        "$$\n",
        "P(w_1, w_2, \\dots | class) = P(w_1 | class) \\cdot P(w_2 | class) \\cdot \\dots\n",
        "$$\n",
        "\n",
        "### Классификация текста\n",
        "\n",
        "Таким образом, для классификации текста необходимо:\n",
        "\n",
        "1. Вычислить априорную вероятность класса: $P(class)$, доля документов с таким классом\n",
        "2. Вычислить правдоподобие: $P(text | class) = \\prod_{i=1}^n P(w_i | class)$\n",
        "\n",
        "_Примечание:_ $P(w_i | class)$ — это частота слова в данном классе относительно всех слов в классе, при этом зачастую добавляют сглаживание Лапласа в качестве регуляризатора\n",
        "$$\n",
        "P(w_i | class) = \\frac{\\text{частота слова в классе} + \\alpha}{\\text{сумма всех слов в классе} + \\alpha \\cdot |V|}\n",
        "$$\n",
        "\n",
        "После этого, необходимо выбрать наиболее вероятный класс для данного текста:\n",
        "\n",
        "$$\n",
        "class = \\arg \\max\\limits_{c} \\Big[ P(c) \\cdot P(text | c) \\Big] = \\arg \\max\\limits_{c} \\Big[ \\log P(c) + \\sum_{i=1}^n \\log P(w_i | c) \\Big]\n",
        "$$\n",
        "\n",
        "### Реализация\n",
        "\n",
        "`fit(X, y)` - оценивает параметры распределения `p(x|y)` для каждого `y`.\n",
        "\n",
        "`log_proba(X)` - для каждого элемента набора `X` считает логарифм вероятности отнести его к каждому классу."
      ]
    },
    {
      "cell_type": "code",
      "execution_count": null,
      "metadata": {
        "id": "cQL-8wxwRvW5"
      },
      "outputs": [],
      "source": [
        "class NaiveBayes:\n",
        "\n",
        "    def __init__(self, alpha: float = 1.0):\n",
        "        \"\"\"\n",
        "        Args:\n",
        "            alpha: regularization coefficient\n",
        "        \"\"\"\n",
        "        self.alpha = alpha\n",
        "        self._classes = None  # [n classes]\n",
        "        self._vocab_size = None  # int\n",
        "        self._log_p_y = None  # [n classes]\n",
        "        self._log_p_x_y = None  # [n classes, vocab size]\n",
        "\n",
        "    def fit(self, features: np.ndarray, targets: list[str]):\n",
        "        \"\"\"Estimate p(x|y) and p(y) based on data\n",
        "\n",
        "        Args:\n",
        "            features, [n samples; vocab size]: input features\n",
        "            targets, [n samples]: targets\n",
        "        \"\"\"\n",
        "        targets = np.array(targets)\n",
        "\n",
        "        self._classes = np.unique(targets)\n",
        "        n_classes = len(self._classes)\n",
        "        self._vocab_size = features.shape[1]\n",
        "\n",
        "        class_counts = np.array([(targets == c).sum() for c in self._classes])\n",
        "        self._log_p_y = np.log(class_counts / len(targets))\n",
        "\n",
        "        self._log_p_x_y = np.zeros((n_classes, self._vocab_size))\n",
        "\n",
        "        for i, c in enumerate(self._classes):\n",
        "            class_features = features[targets == c]\n",
        "\n",
        "            word_counts = class_features.sum(axis=0)\n",
        "            total_words = word_counts.sum()\n",
        "\n",
        "            self._log_p_x_y[i] = np.log(\n",
        "                (word_counts + self.alpha) /\n",
        "                (total_words + self.alpha * self._vocab_size)\n",
        "            )\n",
        "\n",
        "    def predict(self, features: np.ndarray) -> np.ndarray:\n",
        "        \"\"\"Predict class for each sample\n",
        "\n",
        "        Args:\n",
        "            features, [n samples; vocab size]: feature to predict\n",
        "        Return:\n",
        "            classes, [n samples]: predicted class\n",
        "        \"\"\"\n",
        "        return self._classes[np.argmax(self.log_proba(features), axis=1)]\n",
        "\n",
        "    def log_proba(self, features: np.ndarray) -> np.ndarray:\n",
        "        \"\"\"Calculate p(y|x) for each class and each sample\n",
        "\n",
        "        Args:\n",
        "            features, [n samples; vocab size]: feature to predict\n",
        "        Return:\n",
        "            classes, [n samples;  n classes]: log proba for each class\n",
        "        \"\"\"\n",
        "        if self._vocab_size is None:\n",
        "            raise RuntimeError(\"Fit classifier before predicting something\")\n",
        "        if features.shape[1] != self._vocab_size:\n",
        "            raise RuntimeError(\n",
        "                f\"Unexpected size of vocabulary, expected {self._vocab_size}, actual {features.shape[1]}\"\n",
        "            )\n",
        "\n",
        "        log_p_x_y = features @ self._log_p_x_y.T\n",
        "\n",
        "        log_joint = self._log_p_y + log_p_x_y\n",
        "\n",
        "        log_norm = np.logaddexp.reduce(log_joint, axis=1, keepdims=True)\n",
        "\n",
        "        return log_joint - log_norm"
      ]
    },
    {
      "cell_type": "code",
      "source": [
        "results = find_optimal_vocab_size(X_train, y_train, X_test, y_test, BagOfWordsStem, NaiveBayes(alpha=1.0), range(300, 800, 20))\n",
        "print(f\"Best size: {results['best_size']}, Best score: {results['best_score']}\")"
      ],
      "metadata": {
        "colab": {
          "base_uri": "https://localhost:8080/"
        },
        "id": "9A7TmjrQ8oY6",
        "outputId": "c12608ad-9908-4101-e527-768741133110"
      },
      "execution_count": null,
      "outputs": [
        {
          "output_type": "stream",
          "name": "stderr",
          "text": [
            "100%|██████████| 25/25 [00:40<00:00,  1.63s/it]"
          ]
        },
        {
          "output_type": "stream",
          "name": "stdout",
          "text": [
            "Best size: 520, Best score: 0.978494623655914\n"
          ]
        },
        {
          "output_type": "stream",
          "name": "stderr",
          "text": [
            "\n"
          ]
        }
      ]
    },
    {
      "cell_type": "code",
      "execution_count": null,
      "metadata": {
        "id": "6YJEuNYRACLx",
        "colab": {
          "base_uri": "https://localhost:8080/"
        },
        "outputId": "a7951f9c-e92f-4c6f-bca8-eb46a4ea95ff"
      },
      "outputs": [
        {
          "output_type": "execute_result",
          "data": {
            "text/plain": [
              "((5016, 520), (558, 520))"
            ]
          },
          "metadata": {},
          "execution_count": 104
        }
      ],
      "source": [
        "# Подберите оптимальный размер словаря\n",
        "\n",
        "\n",
        "bow = BagOfWordsStem(vocabulary_size=520, remove_stopwords=True)\n",
        "X_train_bow = bow.fit_transform(X_train)\n",
        "X_test_bow = bow.transform(X_test)\n",
        "\n",
        "X_train_bow.shape, X_test_bow.shape"
      ]
    },
    {
      "cell_type": "code",
      "execution_count": null,
      "metadata": {
        "id": "spb2TAg1ACLx",
        "colab": {
          "base_uri": "https://localhost:8080/"
        },
        "outputId": "620ab53d-de55-43df-8f94-19112ef43a97"
      },
      "outputs": [
        {
          "output_type": "stream",
          "name": "stdout",
          "text": [
            "              precision    recall  f1-score   support\n",
            "\n",
            "         ham       1.00      0.98      0.99       483\n",
            "        spam       0.88      0.97      0.92        75\n",
            "\n",
            "    accuracy                           0.98       558\n",
            "   macro avg       0.94      0.98      0.96       558\n",
            "weighted avg       0.98      0.98      0.98       558\n",
            "\n"
          ]
        }
      ],
      "source": [
        "model = NaiveBayes(alpha=1.0)\n",
        "model.fit(X_train_bow, y_train)\n",
        "\n",
        "y_pred = model.predict(X_test_bow)\n",
        "print(classification_report(y_test, y_pred))"
      ]
    },
    {
      "cell_type": "code",
      "source": [
        "results = find_optimal_vocab_size(X_train, y_train, X_test, y_test, BagOfWords, NaiveBayes(alpha=1.0), range(300, 800, 20))\n",
        "print(f\"Best size: {results['best_size']}, Best score: {results['best_score']}\")"
      ],
      "metadata": {
        "colab": {
          "base_uri": "https://localhost:8080/"
        },
        "id": "pitRctnUOlB5",
        "outputId": "24825e58-a16d-4e54-9b99-007092840453"
      },
      "execution_count": null,
      "outputs": [
        {
          "output_type": "stream",
          "name": "stderr",
          "text": [
            "100%|██████████| 25/25 [00:04<00:00,  5.47it/s]\n"
          ]
        },
        {
          "output_type": "stream",
          "name": "stdout",
          "text": [
            "Best size: 740, Best score: 0.9910394265232975\n"
          ]
        }
      ]
    },
    {
      "cell_type": "code",
      "source": [
        "bow = BagOfWords(vocabulary_size=740)\n",
        "X_train_bow = bow.fit_transform(X_train)\n",
        "X_test_bow = bow.transform(X_test)\n",
        "\n",
        "X_train_bow.shape, X_test_bow.shape"
      ],
      "metadata": {
        "colab": {
          "base_uri": "https://localhost:8080/"
        },
        "id": "g26mKkdWPUYk",
        "outputId": "7c8d66a6-cdd7-455b-cf31-b68f23bc190b"
      },
      "execution_count": null,
      "outputs": [
        {
          "output_type": "execute_result",
          "data": {
            "text/plain": [
              "((5016, 740), (558, 740))"
            ]
          },
          "metadata": {},
          "execution_count": 108
        }
      ]
    },
    {
      "cell_type": "code",
      "source": [
        "model = NaiveBayes(alpha=1.0)\n",
        "model.fit(X_train_bow, y_train)\n",
        "\n",
        "y_pred = model.predict(X_test_bow)\n",
        "print(classification_report(y_test, y_pred))"
      ],
      "metadata": {
        "colab": {
          "base_uri": "https://localhost:8080/"
        },
        "id": "fLqlSAMnPeDK",
        "outputId": "cb1d5ba4-47e0-45a2-e96e-41673dee5a66"
      },
      "execution_count": null,
      "outputs": [
        {
          "output_type": "stream",
          "name": "stdout",
          "text": [
            "              precision    recall  f1-score   support\n",
            "\n",
            "         ham       1.00      0.99      0.99       483\n",
            "        spam       0.96      0.97      0.97        75\n",
            "\n",
            "    accuracy                           0.99       558\n",
            "   macro avg       0.98      0.98      0.98       558\n",
            "weighted avg       0.99      0.99      0.99       558\n",
            "\n"
          ]
        }
      ]
    },
    {
      "cell_type": "code",
      "source": [
        "results = find_optimal_vocab_size(X_train, y_train, X_test, y_test, TFIDFVectorizer, NaiveBayes(alpha=1.0), range(300, 800, 20))\n",
        "print(f\"Best size: {results['best_size']}, Best score: {results['best_score']}\")"
      ],
      "metadata": {
        "colab": {
          "base_uri": "https://localhost:8080/"
        },
        "id": "m74nRpEYWY2_",
        "outputId": "822eff4b-c4c9-49fe-ff10-c5201f668037"
      },
      "execution_count": null,
      "outputs": [
        {
          "output_type": "stream",
          "name": "stderr",
          "text": [
            "100%|██████████| 25/25 [00:43<00:00,  1.75s/it]"
          ]
        },
        {
          "output_type": "stream",
          "name": "stdout",
          "text": [
            "Best size: 520, Best score: 0.978494623655914\n"
          ]
        },
        {
          "output_type": "stream",
          "name": "stderr",
          "text": [
            "\n"
          ]
        }
      ]
    },
    {
      "cell_type": "code",
      "source": [
        "tfidf = TFIDFVectorizer(vocabulary_size=520, remove_stopwords=True, use_idf=True)\n",
        "X_train_tfidf = tfidf.fit_transform(X_train)\n",
        "X_test_tfidf = tfidf.transform(X_test)\n",
        "\n",
        "X_train_tfidf.shape, X_test_tfidf.shape"
      ],
      "metadata": {
        "colab": {
          "base_uri": "https://localhost:8080/"
        },
        "id": "F5lkQnz7WoEZ",
        "outputId": "3a9858d1-d0fa-432a-b6ac-5050c880a47e"
      },
      "execution_count": null,
      "outputs": [
        {
          "output_type": "execute_result",
          "data": {
            "text/plain": [
              "((5016, 520), (558, 520))"
            ]
          },
          "metadata": {},
          "execution_count": 13
        }
      ]
    },
    {
      "cell_type": "code",
      "source": [
        "model = NaiveBayes(alpha=1.0)\n",
        "model.fit(X_train_tfidf, y_train)\n",
        "\n",
        "y_pred = model.predict(X_test_tfidf)\n",
        "print(classification_report(y_test, y_pred))"
      ],
      "metadata": {
        "colab": {
          "base_uri": "https://localhost:8080/"
        },
        "id": "BK0MK1jiWucY",
        "outputId": "2e9b10a7-88ee-4407-a10f-a052c50016a0"
      },
      "execution_count": null,
      "outputs": [
        {
          "output_type": "stream",
          "name": "stdout",
          "text": [
            "              precision    recall  f1-score   support\n",
            "\n",
            "         ham       1.00      0.95      0.97       483\n",
            "        spam       0.77      0.97      0.86        75\n",
            "\n",
            "    accuracy                           0.96       558\n",
            "   macro avg       0.88      0.96      0.92       558\n",
            "weighted avg       0.97      0.96      0.96       558\n",
            "\n"
          ]
        }
      ]
    },
    {
      "cell_type": "markdown",
      "source": [
        "**Вывод:** Наилучшие результаты байесовский классификатор показал с обычным BagOfWords"
      ],
      "metadata": {
        "id": "PFUya1v8YzRx"
      }
    }
  ],
  "metadata": {
    "colab": {
      "provenance": []
    },
    "kernelspec": {
      "display_name": "Python 3",
      "name": "python3"
    },
    "language_info": {
      "codemirror_mode": {
        "name": "ipython",
        "version": 3
      },
      "file_extension": ".py",
      "mimetype": "text/x-python",
      "name": "python",
      "nbconvert_exporter": "python",
      "pygments_lexer": "ipython3",
      "version": "3.12.10"
    }
  },
  "nbformat": 4,
  "nbformat_minor": 0
}
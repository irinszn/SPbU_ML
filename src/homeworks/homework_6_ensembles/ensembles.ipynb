{
  "cells": [
    {
      "cell_type": "markdown",
      "metadata": {
        "id": "1PjQglGj4q54"
      },
      "source": [
        "# Случайные леса\n",
        "\n",
        "В этом задании вам предстоит реализовать ансамбль деревьев решений, известный как случайный лес, применить его к публичным данным пользователей социальной сети Вконтакте, и сравнить его эффективность с бустингом, предоставляемым библиотекой `CatBoost`.\n",
        "\n",
        "В результате мы сможем определить, какие подписки пользователей больше всего влияют на определение возраста и пола человека."
      ]
    },
    {
      "cell_type": "code",
      "source": [
        "!pip install catboost"
      ],
      "metadata": {
        "id": "yAPiubPMCa2a",
        "colab": {
          "base_uri": "https://localhost:8080/"
        },
        "outputId": "e4dc4e9d-87fd-44f6-a63b-9c44446d82fb"
      },
      "execution_count": null,
      "outputs": [
        {
          "output_type": "stream",
          "name": "stdout",
          "text": [
            "Collecting catboost\n",
            "  Downloading catboost-1.2.8-cp311-cp311-manylinux2014_x86_64.whl.metadata (1.2 kB)\n",
            "Requirement already satisfied: graphviz in /usr/local/lib/python3.11/dist-packages (from catboost) (0.20.3)\n",
            "Requirement already satisfied: matplotlib in /usr/local/lib/python3.11/dist-packages (from catboost) (3.10.0)\n",
            "Requirement already satisfied: numpy<3.0,>=1.16.0 in /usr/local/lib/python3.11/dist-packages (from catboost) (2.0.2)\n",
            "Requirement already satisfied: pandas>=0.24 in /usr/local/lib/python3.11/dist-packages (from catboost) (2.2.2)\n",
            "Requirement already satisfied: scipy in /usr/local/lib/python3.11/dist-packages (from catboost) (1.15.2)\n",
            "Requirement already satisfied: plotly in /usr/local/lib/python3.11/dist-packages (from catboost) (5.24.1)\n",
            "Requirement already satisfied: six in /usr/local/lib/python3.11/dist-packages (from catboost) (1.17.0)\n",
            "Requirement already satisfied: python-dateutil>=2.8.2 in /usr/local/lib/python3.11/dist-packages (from pandas>=0.24->catboost) (2.9.0.post0)\n",
            "Requirement already satisfied: pytz>=2020.1 in /usr/local/lib/python3.11/dist-packages (from pandas>=0.24->catboost) (2025.2)\n",
            "Requirement already satisfied: tzdata>=2022.7 in /usr/local/lib/python3.11/dist-packages (from pandas>=0.24->catboost) (2025.2)\n",
            "Requirement already satisfied: contourpy>=1.0.1 in /usr/local/lib/python3.11/dist-packages (from matplotlib->catboost) (1.3.2)\n",
            "Requirement already satisfied: cycler>=0.10 in /usr/local/lib/python3.11/dist-packages (from matplotlib->catboost) (0.12.1)\n",
            "Requirement already satisfied: fonttools>=4.22.0 in /usr/local/lib/python3.11/dist-packages (from matplotlib->catboost) (4.57.0)\n",
            "Requirement already satisfied: kiwisolver>=1.3.1 in /usr/local/lib/python3.11/dist-packages (from matplotlib->catboost) (1.4.8)\n",
            "Requirement already satisfied: packaging>=20.0 in /usr/local/lib/python3.11/dist-packages (from matplotlib->catboost) (24.2)\n",
            "Requirement already satisfied: pillow>=8 in /usr/local/lib/python3.11/dist-packages (from matplotlib->catboost) (11.2.1)\n",
            "Requirement already satisfied: pyparsing>=2.3.1 in /usr/local/lib/python3.11/dist-packages (from matplotlib->catboost) (3.2.3)\n",
            "Requirement already satisfied: tenacity>=6.2.0 in /usr/local/lib/python3.11/dist-packages (from plotly->catboost) (9.1.2)\n",
            "Downloading catboost-1.2.8-cp311-cp311-manylinux2014_x86_64.whl (99.2 MB)\n",
            "\u001b[2K   \u001b[90m━━━━━━━━━━━━━━━━━━━━━━━━━━━━━━━━━━━━━━━━\u001b[0m \u001b[32m99.2/99.2 MB\u001b[0m \u001b[31m7.9 MB/s\u001b[0m eta \u001b[36m0:00:00\u001b[0m\n",
            "\u001b[?25hInstalling collected packages: catboost\n",
            "Successfully installed catboost-1.2.8\n"
          ]
        }
      ]
    },
    {
      "cell_type": "code",
      "execution_count": null,
      "metadata": {
        "id": "LH5PiGz04q5-"
      },
      "outputs": [],
      "source": [
        "import inspect\n",
        "import random\n",
        "from collections import Counter\n",
        "from dataclasses import dataclass\n",
        "from itertools import product\n",
        "from typing import Callable, List, Tuple, Union, Optional\n",
        "\n",
        "import numpy as np\n",
        "import numpy.typing as npt\n",
        "import pandas\n",
        "from catboost import CatBoostClassifier\n",
        "from sklearn.model_selection import train_test_split\n",
        "from tqdm.notebook import tqdm"
      ]
    },
    {
      "cell_type": "code",
      "execution_count": null,
      "metadata": {
        "pycharm": {
          "name": "#%%\n"
        },
        "id": "HQgnk5yR_m69"
      },
      "outputs": [],
      "source": [
        "def set_seed(seed=42):\n",
        "    np.random.seed(seed)\n",
        "    random.seed(seed)\n",
        "\n",
        "\n",
        "# Этой функцией будут помечены все места, которые необходимо дозаполнить\n",
        "# Это могут быть как целые функции, так и отдельные части внутри них\n",
        "# Всегда можно воспользоваться интроспекцией и найти места использования этой функции :)\n",
        "def todo():\n",
        "    stack = inspect.stack()\n",
        "    caller_frame = stack[1]\n",
        "    function_name = caller_frame.function\n",
        "    line_number = caller_frame.lineno\n",
        "    raise NotImplementedError(f\"TODO at {function_name}, line {line_number}\")\n",
        "\n",
        "\n",
        "SEED = 0xC0FFEE\n",
        "set_seed(SEED)"
      ]
    },
    {
      "cell_type": "code",
      "execution_count": null,
      "metadata": {
        "id": "n4Z2hsD2_m6-"
      },
      "outputs": [],
      "source": [
        "def mode(data):\n",
        "    counts = Counter(data)\n",
        "    return counts.most_common(n=1)[0][0]"
      ]
    },
    {
      "cell_type": "markdown",
      "metadata": {
        "id": "tfxycK0Q4q5_"
      },
      "source": [
        "### Задание 1 (2 балла)\n",
        "Random Forest состоит из деревьев решений. Каждое такое дерево строится на одной из выборок, полученных при помощи bootstrap. Элементы, которые не вошли в новую обучающую выборку, образуют **out-of-bag** выборку. Кроме того, в каждом узле дерева мы случайным образом выбираем набор из `max_features` и ищем признак для предиката разбиения только в этом наборе.\n",
        "\n",
        "Сегодня мы будем работать только с бинарными признаками, поэтому нет необходимости выбирать значение признака для разбиения.\n",
        "\n",
        "#### Методы\n",
        "`predict(X)` - возвращает предсказанные метки для элементов выборки `X`\n",
        "\n",
        "#### Параметры конструктора\n",
        "`X, y` - обучающая выборка и соответствующие ей метки классов. Из нее нужно получить выборку для построения дерева при помощи bootstrap. Out-of-bag выборку нужно запомнить, она понадобится потом.\n",
        "\n",
        "`criterion=\"gini\"` - задает критерий, который будет использоваться при построении дерева. Возможные значения: `\"gini\"`, `\"entropy\"`.\n",
        "\n",
        "`max_depth=None` - ограничение глубины дерева. Если `None` - глубина не ограничена\n",
        "\n",
        "`min_samples_leaf=1` - минимальное количество элементов в каждом листе дерева.\n",
        "\n",
        "`max_features=\"auto\"` - количество признаков, которые могут использоваться в узле. Если `\"auto\"` - равно `sqrt(X.shape[1])`"
      ]
    },
    {
      "cell_type": "code",
      "execution_count": null,
      "metadata": {
        "id": "bQUJHTjS4q5-"
      },
      "outputs": [],
      "source": [
        "# Для начала реализуем сами критерии\n",
        "\n",
        "\n",
        "def gini(x: npt.ArrayLike) -> float:\n",
        "    \"\"\"\n",
        "    Calculate the Gini impurity of a list or array of class labels.\n",
        "\n",
        "    Args:\n",
        "        x (ArrayLike): Array-like object containing class labels.\n",
        "\n",
        "    Returns:\n",
        "        float: Gini impurity value.\n",
        "    \"\"\"\n",
        "    labels = np.asarray(x)\n",
        "\n",
        "    class_counts = np.unique(labels, return_counts=True)[1]\n",
        "    probabilities = class_counts / len(labels)\n",
        "\n",
        "    return np.sum(probabilities * (1 - probabilities))\n",
        "\n",
        "\n",
        "def entropy(x: npt.ArrayLike) -> float:\n",
        "    \"\"\"\n",
        "    Calculate the entropy of a list or array of class labels.\n",
        "\n",
        "    Args:\n",
        "        x (ArrayLike): Array-like object containing class labels.\n",
        "\n",
        "    Returns:\n",
        "        float: Entropy value.\n",
        "    \"\"\"\n",
        "    labels = np.asarray(x)\n",
        "\n",
        "    class_counts = np.unique(labels, return_counts=True)[1]\n",
        "    probabilities = class_counts / len(labels)\n",
        "\n",
        "    return -np.sum(probabilities * np.log2(probabilities))\n",
        "\n",
        "\n",
        "def gain(left_y: npt.ArrayLike, right_y: npt.ArrayLike, criterion: Callable[[npt.ArrayLike], float]) -> float:\n",
        "    \"\"\"\n",
        "    Calculate the information gain of a split using a specified criterion.\n",
        "\n",
        "    Args:\n",
        "        left_y (ArrayLike): Class labels for the left split.\n",
        "        right_y (ArrayLike): Class labels for the right split.\n",
        "        criterion (Callable): Function to calculate impurity (e.g., gini or entropy).\n",
        "\n",
        "    Returns:\n",
        "        float: Information gain from the split.\n",
        "    \"\"\"\n",
        "    left = np.asarray(left_y)\n",
        "    right = np.asarray(right_y)\n",
        "\n",
        "    parent = np.concatenate((left, right))\n",
        "    parent_impurity = criterion(parent)\n",
        "\n",
        "    left_impurity = (len(left) / len(parent)) * criterion(left)\n",
        "    right_impurity = (len(right) / len(parent)) * criterion(right)\n",
        "\n",
        "    return parent_impurity - left_impurity - right_impurity"
      ]
    },
    {
      "cell_type": "code",
      "execution_count": null,
      "metadata": {
        "pycharm": {
          "name": "#%%\n"
        },
        "id": "cogv7cq2_m7A"
      },
      "outputs": [],
      "source": [
        "@dataclass\n",
        "class DecisionTreeLeaf:\n",
        "    classes: np.ndarray\n",
        "\n",
        "    def __post_init__(self):\n",
        "        self.max_class = mode(self.classes)\n",
        "\n",
        "\n",
        "@dataclass\n",
        "class DecisionTreeInternalNode:\n",
        "    split_dim: int\n",
        "    left: Union[\"DecisionTreeInternalNode\", DecisionTreeLeaf]\n",
        "    right: Union[\"DecisionTreeInternalNode\", DecisionTreeLeaf]\n",
        "\n",
        "\n",
        "DecisionTreeNode = Union[DecisionTreeInternalNode, DecisionTreeLeaf]"
      ]
    },
    {
      "cell_type": "code",
      "execution_count": null,
      "metadata": {
        "id": "8smLW2V_4q5_"
      },
      "outputs": [],
      "source": [
        "class DecisionTree:\n",
        "    def __init__(self, X, y, criterion=\"gini\", max_depth=None, min_samples_leaf=1, max_features=\"auto\") -> None:\n",
        "        self._X = X\n",
        "        self._y = y\n",
        "        self._criterion = self._select_crit(criterion)\n",
        "        self._max_depth = max_depth\n",
        "        self._min_samples_leaf = min_samples_leaf\n",
        "        self._max_features = self._validate_max_feat(max_features)\n",
        "        self._out_of_bag_X = None\n",
        "        self._out_of_bag_y = None\n",
        "\n",
        "        self._boot_X, self._boot_y = self._bootstrap_init()\n",
        "\n",
        "        self._root = self._build_node(self._boot_X, self._boot_y, 0)\n",
        "\n",
        "\n",
        "    def _bootstrap_init(self) -> tuple[np.ndarray, np.ndarray]:\n",
        "        bootstrap_indices = np.random.choice(len(self._X), size=len(self._X), replace=True)\n",
        "        self._out_of_bag_X = self._X[np.setdiff1d(np.arange(len(self._X)), bootstrap_indices)]\n",
        "        self._out_of_bag_y = self._y[np.setdiff1d(np.arange(len(self._X)), bootstrap_indices)]\n",
        "\n",
        "        return self._X[bootstrap_indices], self._y[bootstrap_indices]\n",
        "\n",
        "    @staticmethod\n",
        "    def _select_crit(criterion: str) -> Callable:\n",
        "        if criterion ==  \"gini\":\n",
        "            return gini\n",
        "        elif criterion == \"entropy\":\n",
        "            return entropy\n",
        "        else:\n",
        "            raise ValueError(\"Unsupported criterion. Use 'gini' or 'entropy'.\")\n",
        "\n",
        "    def _validate_max_feat(self, max_features: Union[str, int]) -> int:\n",
        "        if max_features == \"auto\":\n",
        "            return int(np.sqrt(self._X.shape[1]))\n",
        "        elif isinstance(max_features, int):\n",
        "            return max_features\n",
        "        else:\n",
        "            raise ValueError(\"Unsupported max features count.\")\n",
        "\n",
        "    @property\n",
        "    def out_of_bag(self) -> Tuple[np.ndarray, np.ndarray]:\n",
        "        return self._out_of_bag_X, self._out_of_bag_y\n",
        "\n",
        "    def _split(self, points: np.ndarray, classes: np.ndarray, axis: int) -> tuple[np.ndarray, np.ndarray, np.ndarray, np.ndarray]:\n",
        "        left_mask = points[:, axis] == 0\n",
        "        right_mask = ~left_mask\n",
        "        return points[left_mask], points[right_mask], classes[left_mask], classes[right_mask]\n",
        "\n",
        "\n",
        "    def _find_best_split(self, points: np.ndarray, classes: np.ndarray) -> int:\n",
        "        best_dim = None\n",
        "        best_gain = -np.inf\n",
        "\n",
        "        feature_indices = np.random.choice(points.shape[1], size=self._max_features, replace=False)\n",
        "\n",
        "        for dim in feature_indices:\n",
        "            left_points, right_points, left_classes, right_classes = self._split(points, classes, dim)\n",
        "\n",
        "            if len(left_classes) < self._min_samples_leaf or len(right_classes) < self._min_samples_leaf:\n",
        "                continue\n",
        "\n",
        "            current_gain = gain(left_classes, right_classes, self._criterion)\n",
        "            if current_gain > best_gain:\n",
        "                best_gain = current_gain\n",
        "                best_dim = dim\n",
        "\n",
        "        return best_dim\n",
        "\n",
        "    def _build_node(self, points: np.ndarray, classes: np.ndarray, depth: int) -> DecisionTreeNode:\n",
        "        if (self._max_depth is not None and depth >= self._max_depth) or len(points) <= self._min_samples_leaf:\n",
        "            return DecisionTreeLeaf(classes)\n",
        "\n",
        "        split_dim = self._find_best_split(points, classes)\n",
        "        if split_dim is None:\n",
        "            return DecisionTreeLeaf(classes)\n",
        "\n",
        "        left_points, right_points, left_classes, right_classes = self._split(points, classes, split_dim)\n",
        "\n",
        "        return DecisionTreeInternalNode(\n",
        "            split_dim,\n",
        "            self._build_node(left_points, left_classes, depth + 1),\n",
        "            self._build_node(right_points, right_classes, depth + 1))\n",
        "\n",
        "\n",
        "    def _predict(self, points: np.ndarray, node: DecisionTreeNode) -> np.ndarray:\n",
        "        if isinstance(node, DecisionTreeLeaf):\n",
        "            return np.full(len(points), node.max_class)\n",
        "\n",
        "        left_mask = points[:, node.split_dim] == 0\n",
        "        right_mask = ~left_mask\n",
        "\n",
        "        left_preds = self._predict(points[left_mask], node.left)\n",
        "        right_preds = self._predict(points[right_mask], node.right)\n",
        "\n",
        "        preds = np.empty(len(points), dtype=self._y.dtype)\n",
        "        preds[left_mask] = left_preds\n",
        "        preds[right_mask] = right_preds\n",
        "\n",
        "        return preds\n",
        "\n",
        "    def predict(self, points: np.ndarray) -> np.ndarray:\n",
        "        return self._predict(points, self._root)"
      ]
    },
    {
      "cell_type": "markdown",
      "metadata": {
        "id": "9oijgwLt4q6A"
      },
      "source": [
        "### Задание 2 (2 балла)\n",
        "Теперь реализуем сам Random Forest. Идея очень простая: строим `n` деревьев, а затем берем модальное предсказание.\n",
        "\n",
        "#### Параметры конструктора\n",
        "`n_estimators` - количество используемых для предсказания деревьев.\n",
        "\n",
        "Остальное - параметры деревьев.\n",
        "\n",
        "#### Методы\n",
        "`fit(X, y)` - строит `n_estimators` деревьев по выборке `X`.\n",
        "\n",
        "`predict(X)` - для каждого элемента выборки `X` возвращает самый частый класс, который предсказывают для него деревья."
      ]
    },
    {
      "cell_type": "code",
      "execution_count": null,
      "metadata": {
        "id": "APIy88YW4q6A"
      },
      "outputs": [],
      "source": [
        "class RandomForestClassifier:\n",
        "\n",
        "    _n_features: int = None\n",
        "\n",
        "    def __init__(self, criterion=\"gini\", max_depth=None, min_samples_leaf=1, max_features=\"auto\", n_estimators=10):\n",
        "        self._criterion = criterion\n",
        "        self._max_depth = max_depth\n",
        "        self._min_samples_leaf = min_samples_leaf\n",
        "        self._max_features = max_features\n",
        "        self._n_estimators = n_estimators\n",
        "        self._estimators = []\n",
        "\n",
        "    @property\n",
        "    def estimators(self) -> List[DecisionTree]:\n",
        "        return self._estimators\n",
        "\n",
        "    @property\n",
        "    def n_features(self) -> int:\n",
        "        if self._n_features is None:\n",
        "            raise RuntimeError(\"Fit random forest before accessing to number of features properties\")\n",
        "        return self._n_features\n",
        "\n",
        "    def fit(self, X, y) -> None:\n",
        "        self._n_features = X.shape[1]\n",
        "        self._estimators = [DecisionTree(X, y, criterion=self._criterion, max_depth=self._max_depth, min_samples_leaf=self._min_samples_leaf, max_features=self._max_features) for _ in range(self._n_estimators)]\n",
        "\n",
        "    def predict(self, X) -> np.ndarray:\n",
        "        predictions = np.array([tree.predict(X) for tree in self._estimators])\n",
        "        return [mode(predicts) for predicts in predictions.T]"
      ]
    },
    {
      "cell_type": "markdown",
      "metadata": {
        "id": "i80pffMn4q6A"
      },
      "source": [
        "### Задание 3 (2 балла)\n",
        "Часто хочется понимать, насколько большую роль играет тот или иной признак для предсказания класса объекта. Есть различные способы посчитать его важность. Один из простых способов сделать это для Random Forest - посчитать out-of-bag ошибку предсказания `err_oob`, а затем перемешать значения признака `j` и посчитать ее (`err_oob_j`) еще раз. Оценкой важности признака `j` для одного дерева будет разность `err_oob_j - err_oob`, важность для всего леса считается как среднее значение важности по деревьям.\n",
        "\n",
        "Реализуйте функцию `feature_importance`, которая принимает на вход Random Forest и возвращает массив, в котором содержится важность для каждого признака."
      ]
    },
    {
      "cell_type": "code",
      "execution_count": null,
      "metadata": {
        "id": "rEmVG1Fl4q6B"
      },
      "outputs": [],
      "source": [
        "def accuracy_score(y_true: np.ndarray, y_pred: np.ndarray) -> float:\n",
        "    y_true = y_true.reshape(-1)\n",
        "    y_pred = y_pred.reshape(-1)\n",
        "    return np.mean(y_true == y_pred)\n",
        "\n",
        "\n",
        "def feature_importance(rfc):\n",
        "    importances = np.zeros(rfc.n_features)\n",
        "\n",
        "    for tree in rfc.estimators:\n",
        "        X_oob, y_oob = tree.out_of_bag\n",
        "\n",
        "        if len(X_oob) == 0:\n",
        "            continue\n",
        "\n",
        "        y_pred = tree.predict(X_oob)\n",
        "        err_oob = 1 - accuracy_score(y_oob, y_pred)\n",
        "\n",
        "        for j in range(rfc.n_features):\n",
        "            X_permuted = X_oob.copy()\n",
        "            np.random.shuffle(X_permuted[:, j])\n",
        "            y_pred_permuted = tree.predict(X_permuted)\n",
        "            err_oob_j = 1 - accuracy_score(y_oob, y_pred_permuted)\n",
        "\n",
        "            importances[j] += err_oob_j - err_oob\n",
        "\n",
        "        importances /= len(rfc.estimators)\n",
        "        return importances\n",
        "\n",
        "\n",
        "def most_important_features(importance, names, k=20):\n",
        "    # Выводит названия k самых важных признаков\n",
        "    indices = np.argsort(importance)[::-1][:k]\n",
        "    return np.array(names)[indices]"
      ]
    },
    {
      "cell_type": "markdown",
      "metadata": {
        "id": "JooN_YKm4q6B"
      },
      "source": [
        "Наконец, пришло время протестировать наше дерево на простом синтетическом наборе данных. В результате точность должна быть примерно равна `1.0`, наибольшее значение важности должно быть у признака с индексом `4`, признаки с индексами `2` и `3`  должны быть одинаково важны, а остальные признаки - не важны совсем."
      ]
    },
    {
      "cell_type": "code",
      "execution_count": null,
      "metadata": {
        "id": "8gqYMp994q6B",
        "colab": {
          "base_uri": "https://localhost:8080/"
        },
        "outputId": "9928da15-4cef-476b-b317-48c8b2dab9b9"
      },
      "outputs": [
        {
          "output_type": "stream",
          "name": "stdout",
          "text": [
            "Accuracy: 1.0\n",
            "Importance: [0.00000000e+00 0.00000000e+00 0.00000000e+00 9.45945946e-04\n",
            " 3.70270270e-03 8.10810811e-05]\n"
          ]
        }
      ],
      "source": [
        "def synthetic_dataset(size):\n",
        "    X = [\n",
        "        (np.random.randint(0, 2), np.random.randint(0, 2), i % 6 == 3, i % 6 == 0, i % 3 == 2, np.random.randint(0, 2))\n",
        "        for i in range(size)\n",
        "    ]\n",
        "    y = [i % 3 for i in range(size)]\n",
        "    return np.array(X), np.array(y)\n",
        "\n",
        "\n",
        "X, y = synthetic_dataset(1000)\n",
        "rfc = RandomForestClassifier(n_estimators=100)\n",
        "rfc.fit(X, y)\n",
        "print(\"Accuracy:\", np.mean(rfc.predict(X) == y))\n",
        "print(\"Importance:\", feature_importance(rfc))"
      ]
    },
    {
      "cell_type": "markdown",
      "metadata": {
        "id": "vRtGOs164q6C"
      },
      "source": [
        "### Задание 4 (1 балл)\n",
        "Теперь поработаем с реальными данными.\n",
        "\n",
        "Выборка состоит из публичных анонимизированных данных пользователей социальной сети Вконтакте. Первые два столбца отражают возрастную группу (`zoomer`, `doomer` и `boomer`) и пол (`female`, `male`). Все остальные столбцы являются бинарными признаками, каждый из них определяет, подписан ли пользователь на определенную группу/публичную страницу или нет.\\\n",
        "\\\n",
        "Необходимо обучить два классификатора, один из которых определяет возрастную группу, а второй - пол.\\\n",
        "\\\n",
        "Эксперименты с множеством используемых признаков и подбор гиперпараметров приветствуются. Лес должен строиться за какое-то разумное время."
      ]
    },
    {
      "cell_type": "code",
      "execution_count": null,
      "metadata": {
        "id": "HruobK-q4q6C"
      },
      "outputs": [],
      "source": [
        "def read_dataset(path):\n",
        "    dataframe = pandas.read_csv(path, header=0)\n",
        "    dataset = dataframe.values.tolist()\n",
        "    random.shuffle(dataset)\n",
        "    y_age = [row[0] for row in dataset]\n",
        "    y_sex = [row[1] for row in dataset]\n",
        "    X = [row[2:] for row in dataset]\n",
        "\n",
        "    return np.array(X), np.array(y_age), np.array(y_sex), list(dataframe.columns)[2:]"
      ]
    },
    {
      "cell_type": "code",
      "execution_count": null,
      "metadata": {
        "id": "K0QXWr3b4q6C"
      },
      "outputs": [],
      "source": [
        "X, y_age, y_sex, features = read_dataset(\"vk.csv\")\n",
        "X_train, X_test, y_age_train, y_age_test, y_sex_train, y_sex_test = train_test_split(X, y_age, y_sex, train_size=0.9)"
      ]
    },
    {
      "cell_type": "markdown",
      "metadata": {
        "id": "I0y8J97m4q6C"
      },
      "source": [
        "#### Возраст"
      ]
    },
    {
      "cell_type": "code",
      "execution_count": null,
      "metadata": {
        "id": "MLJykJZH4q6C",
        "colab": {
          "base_uri": "https://localhost:8080/"
        },
        "outputId": "3894fcf5-754e-4f13-91fe-98400a0a3c51"
      },
      "outputs": [
        {
          "output_type": "stream",
          "name": "stdout",
          "text": [
            "Accuracy: 0.7175283732660782\n",
            "Most important features:\n",
            "1. ovsyanochan\n",
            "2. styd.pozor\n",
            "3. mudakoff\n",
            "4. 4ch\n",
            "5. nenormalnoo\n",
            "6. rhymes\n",
            "7. ohhluul\n",
            "8. medieval_or\n",
            "9. bog_memes\n",
            "10. in.humour\n",
            "11. kino_mania\n",
            "12. ne1party\n",
            "13. tumblr_vacuum\n",
            "14. iwantyou\n",
            "15. bot_maxim\n",
            "16. club52205838\n",
            "17. pixel_stickers\n",
            "18. rapnewrap\n",
            "19. fortnite\n",
            "20. leprazo\n"
          ]
        }
      ],
      "source": [
        "rfc = RandomForestClassifier(n_estimators=10)\n",
        "\n",
        "rfc.fit(X_train, y_age_train)\n",
        "print(\"Accuracy:\", np.mean(rfc.predict(X_test) == y_age_test))\n",
        "print(\"Most important features:\")\n",
        "for i, name in enumerate(most_important_features(feature_importance(rfc), features, 20)):\n",
        "    print(str(i + 1) + \".\", name)"
      ]
    },
    {
      "cell_type": "markdown",
      "metadata": {
        "id": "cgNpaAKH4q6D"
      },
      "source": [
        "#### Пол"
      ]
    },
    {
      "cell_type": "code",
      "execution_count": null,
      "metadata": {
        "id": "X-zne5-R4q6D",
        "colab": {
          "base_uri": "https://localhost:8080/"
        },
        "outputId": "f1493952-24a8-4c14-df4f-ccfbfcbe1996"
      },
      "outputs": [
        {
          "output_type": "stream",
          "name": "stdout",
          "text": [
            "Accuracy: 0.8524590163934426\n",
            "Most important features:\n",
            "1. 40kg\n",
            "2. be.women\n",
            "3. girlmeme\n",
            "4. rapnewrap\n",
            "5. reflexia_our_feelings\n",
            "6. sh.cook\n",
            "7. h.made\n",
            "8. zerofat\n",
            "9. 9o_6o_9o\n",
            "10. cook_bon\n",
            "11. 4ch\n",
            "12. combovine\n",
            "13. igm\n",
            "14. soverwenstvo.decora\n",
            "15. academyofman\n",
            "16. i_d_t\n",
            "17. be.beauty\n",
            "18. i_want_love_dream\n",
            "19. mudakoff\n",
            "20. emptiness\n"
          ]
        }
      ],
      "source": [
        "rfc = RandomForestClassifier(n_estimators=10)\n",
        "rfc.fit(X_train, y_sex_train)\n",
        "print(\"Accuracy:\", np.mean(rfc.predict(X_test) == y_sex_test))\n",
        "print(\"Most important features:\")\n",
        "for i, name in enumerate(most_important_features(feature_importance(rfc), features, 20)):\n",
        "    print(str(i + 1) + \".\", name)"
      ]
    },
    {
      "cell_type": "markdown",
      "metadata": {
        "id": "pxeTQylQ4q6D"
      },
      "source": [
        "### CatBoost\n",
        "В качестве аьтернативы попробуем CatBoost.\n",
        "\n",
        "Устаниовить его можно просто с помощью `pip install catboost`. Туториалы можно найти, например, [здесь](https://catboost.ai/docs/concepts/python-usages-examples.html#multiclassification) и [здесь](https://github.com/catboost/tutorials/blob/master/python_tutorial.ipynb). Главное - не забудьте использовать `loss_function='MultiClass'`.\\\n",
        "\\\n",
        "Сначала протестируйте CatBoost на синтетических данных. Выведите точность и важность признаков."
      ]
    },
    {
      "cell_type": "code",
      "execution_count": null,
      "metadata": {
        "id": "DOqVkEnd4q6D",
        "colab": {
          "base_uri": "https://localhost:8080/"
        },
        "outputId": "bc62251d-db44-418f-dff5-0c3d347c6513"
      },
      "outputs": [
        {
          "output_type": "stream",
          "name": "stdout",
          "text": [
            "Accuracy: 1.0\n",
            "Importance: [5.48456988e-03 1.16334730e-02 2.78558956e+01 2.78607784e+01\n",
            " 4.42599666e+01 6.24136535e-03]\n"
          ]
        }
      ],
      "source": [
        "X, y = synthetic_dataset(1000)\n",
        "\n",
        "cb_model = CatBoostClassifier(loss_function='MultiClass', verbose=0)\n",
        "cb_model.fit(X, y)\n",
        "y_pred = cb_model.predict(X)\n",
        "\n",
        "print(\"Accuracy:\", accuracy_score(y_pred, y))\n",
        "print(\"Importance:\", cb_model.feature_importances_)"
      ]
    },
    {
      "cell_type": "markdown",
      "metadata": {
        "id": "tcLRsSNG4q6E"
      },
      "source": [
        "### Задание 5 (3 балла)\n",
        "Попробуем применить один из используемых на практике алгоритмов. В этом нам поможет CatBoost. Также, как и реализованный ними RandomForest, применим его для определения пола и возраста пользователей сети Вконтакте, выведите названия наиболее важных признаков так же, как в задании 3.\\\n",
        "\\\n",
        "Эксперименты с множеством используемых признаков и подбор гиперпараметров приветствуются."
      ]
    },
    {
      "cell_type": "code",
      "execution_count": null,
      "metadata": {
        "id": "hJGrQcO-4q6E"
      },
      "outputs": [],
      "source": [
        "X, y_age, y_sex, features = read_dataset(\"vk.csv\")\n",
        "X_train, X_test, y_age_train, y_age_test, y_sex_train, y_sex_test = train_test_split(X, y_age, y_sex, train_size=0.9)\n",
        "X_train, X_eval, y_age_train, y_age_eval, y_sex_train, y_sex_eval = train_test_split(\n",
        "    X_train, y_age_train, y_sex_train, train_size=0.8\n",
        ")"
      ]
    },
    {
      "cell_type": "code",
      "execution_count": null,
      "metadata": {
        "pycharm": {
          "name": "#%%\n"
        },
        "id": "1LY5Soju_m7H"
      },
      "outputs": [],
      "source": [
        "max_depth = range(1, 10, 3)\n",
        "min_samples_leaf = range(1, 10, 3)\n",
        "learning_rate = np.linspace(0.001, 1.0, 5)\n",
        "\n",
        "\n",
        "def get_best_params(y_train, y_eval):\n",
        "    best_score, best_params = None, None\n",
        "    for lr, md, msl in tqdm(list(product(learning_rate, max_depth, min_samples_leaf))):\n",
        "        model = CatBoostClassifier(\n",
        "            learning_rate=lr,\n",
        "            depth=md,\n",
        "            min_data_in_leaf=msl,\n",
        "            loss_function='MultiClass',\n",
        "            verbose=0\n",
        "        )\n",
        "\n",
        "        model.fit(X_train, y_train)\n",
        "        y_pred = model.predict(X_eval)\n",
        "        score = accuracy_score(y_eval, y_pred)\n",
        "\n",
        "        if best_score is None or score > best_score:\n",
        "            best_score = score\n",
        "            best_params = {\"learning_rate\": lr, \"max_depth\": md, \"min_data_in_leaf\": msl, \"loss_function\":'MultiClass', \"verbose\":0}\n",
        "\n",
        "    return best_params, best_score"
      ]
    },
    {
      "cell_type": "markdown",
      "metadata": {
        "id": "XA5f_8eC4q6E"
      },
      "source": [
        "#### Возраст"
      ]
    },
    {
      "cell_type": "code",
      "execution_count": null,
      "metadata": {
        "pycharm": {
          "name": "#%%\n"
        },
        "id": "NlnHYz2I_m7I",
        "colab": {
          "base_uri": "https://localhost:8080/",
          "height": 156,
          "referenced_widgets": [
            "cf4e768df7fe470b8f88a050365f289a",
            "ccbf916988f541df8a4f1c47bb80061d",
            "4e6ecf144be94ca8b204e8561e500936",
            "232d358b78634adf9e5119b6d0eafdbb",
            "be1ca6c4b48749a29b52430546880bcb",
            "8453de4684434945a9f1db99151a58da",
            "6a7371f54028459a8108921071057b55",
            "188e4a8b64004b25b2c765acb99f072c",
            "30e45fd004534218b19a7747588dd468",
            "c8a9296908754f268f747749dc430ee9",
            "0760e5127220445f9f511f9a48955589"
          ]
        },
        "outputId": "04d9f767-9055-4b5c-fc9d-7a149d3be029"
      },
      "outputs": [
        {
          "output_type": "display_data",
          "data": {
            "text/plain": [
              "  0%|          | 0/45 [00:00<?, ?it/s]"
            ],
            "application/vnd.jupyter.widget-view+json": {
              "version_major": 2,
              "version_minor": 0,
              "model_id": "cf4e768df7fe470b8f88a050365f289a"
            }
          },
          "metadata": {}
        },
        {
          "output_type": "execute_result",
          "data": {
            "text/plain": [
              "({'learning_rate': np.float64(0.25075),\n",
              "  'max_depth': 7,\n",
              "  'min_data_in_leaf': 1,\n",
              "  'loss_function': 'MultiClass',\n",
              "  'verbose': 0},\n",
              " np.float64(0.7582340574632095))"
            ]
          },
          "metadata": {},
          "execution_count": 39
        }
      ],
      "source": [
        "best_params, best_score = get_best_params(y_age_train, y_age_eval)\n",
        "best_params, best_score"
      ]
    },
    {
      "cell_type": "code",
      "execution_count": null,
      "metadata": {
        "id": "qSeUpxPj4q6E",
        "colab": {
          "base_uri": "https://localhost:8080/"
        },
        "outputId": "3f112735-ce50-4d42-fb13-4ff7fe98073f"
      },
      "outputs": [
        {
          "output_type": "stream",
          "name": "stdout",
          "text": [
            "Accuracy: 0.7477931904161412\n",
            "Most important features:\n",
            "1. mudakoff\n",
            "2. dayvinchik\n",
            "3. 4ch\n",
            "4. rapnewrap\n",
            "5. ovsyanochan\n",
            "6. leprum\n",
            "7. rhymes\n",
            "8. fuck_humor\n",
            "9. exclusive_muzic\n",
            "10. kinomania\n"
          ]
        }
      ],
      "source": [
        "cb_model = CatBoostClassifier(**best_params)\n",
        "cb_model.fit(X_train, y_age_train)\n",
        "y_pred = cb_model.predict(X_test)\n",
        "\n",
        "print(\"Accuracy:\", accuracy_score(y_age_test, y_pred))\n",
        "print(\"Most important features:\")\n",
        "for i, name in enumerate(most_important_features(cb_model.feature_importances_, features, 10)):\n",
        "    print(str(i + 1) + \".\", name)"
      ]
    },
    {
      "cell_type": "markdown",
      "metadata": {
        "id": "KfYSptm74q6E"
      },
      "source": [
        "#### Пол"
      ]
    },
    {
      "cell_type": "code",
      "execution_count": null,
      "metadata": {
        "pycharm": {
          "name": "#%%\n"
        },
        "id": "EmgHwBaM_m7I",
        "colab": {
          "base_uri": "https://localhost:8080/",
          "height": 156,
          "referenced_widgets": [
            "04ac542fdf9d4cd39589a8757ac618c3",
            "c129ecc2644a4b4fa03e28584ad70241",
            "3353431153444a7891863a4d4199b043",
            "00fd5931595c42f482e904c967a95142",
            "68f1c888c80d40739264ade4ef7be14f",
            "4cb5044d857f47b58bfa070e55ef289d",
            "731cf26a7a654933a1da9ef4705478d3",
            "bbad03c067774b70b0825eaf6c9942af",
            "955b8667fd5d458aadbb3e3ff07b97ce",
            "58524fa32d784d1fbcf2465d8cea0d62",
            "3b9601e119fc4697bd6a1a0e3de5ac48"
          ]
        },
        "outputId": "9dde0cac-db15-48a9-f796-ce67b2e6d25a"
      },
      "outputs": [
        {
          "output_type": "display_data",
          "data": {
            "text/plain": [
              "  0%|          | 0/45 [00:00<?, ?it/s]"
            ],
            "application/vnd.jupyter.widget-view+json": {
              "version_major": 2,
              "version_minor": 0,
              "model_id": "04ac542fdf9d4cd39589a8757ac618c3"
            }
          },
          "metadata": {}
        },
        {
          "output_type": "execute_result",
          "data": {
            "text/plain": [
              "({'learning_rate': np.float64(0.25075),\n",
              "  'max_depth': 4,\n",
              "  'min_data_in_leaf': 1,\n",
              "  'loss_function': 'MultiClass',\n",
              "  'verbose': 0},\n",
              " np.float64(0.877365101611773))"
            ]
          },
          "metadata": {},
          "execution_count": 41
        }
      ],
      "source": [
        "best_params, best_score = get_best_params(y_sex_train, y_sex_eval)\n",
        "best_params, best_score"
      ]
    },
    {
      "cell_type": "code",
      "execution_count": null,
      "metadata": {
        "id": "4rKa-f6F4q6E",
        "pycharm": {
          "name": "#%%\n"
        },
        "colab": {
          "base_uri": "https://localhost:8080/"
        },
        "outputId": "e5a89f5a-10ee-4951-d189-d9e1518cfa33"
      },
      "outputs": [
        {
          "output_type": "stream",
          "name": "stdout",
          "text": [
            "Accuracy: 0.8751576292559899\n",
            "Most important features:\n",
            "1. 40kg\n",
            "2. mudakoff\n",
            "3. modnailru\n",
            "4. girlmeme\n",
            "5. igm\n",
            "6. femalemem\n",
            "7. cook_good\n",
            "8. be.beauty\n",
            "9. 4ch\n",
            "10. i_d_t\n"
          ]
        }
      ],
      "source": [
        "cb_model = CatBoostClassifier(**best_params)\n",
        "cb_model.fit(X_train, y_sex_train)\n",
        "y_pred = cb_model.predict(X_test)\n",
        "\n",
        "print(\"Accuracy:\", accuracy_score(y_sex_test, y_pred))\n",
        "print(\"Most important features:\")\n",
        "for i, name in enumerate(most_important_features(cb_model.feature_importances_, features, 10)):\n",
        "    print(str(i + 1) + \".\", name)"
      ]
    }
  ],
  "metadata": {
    "colab": {
      "provenance": []
    },
    "kernelspec": {
      "display_name": "py_3_10",
      "language": "python",
      "name": "python3"
    },
    "language_info": {
      "codemirror_mode": {
        "name": "ipython",
        "version": 3
      },
      "file_extension": ".py",
      "mimetype": "text/x-python",
      "name": "python",
      "nbconvert_exporter": "python",
      "pygments_lexer": "ipython3",
      "version": "3.10.12"
    },
    "widgets": {
      "application/vnd.jupyter.widget-state+json": {
        "cf4e768df7fe470b8f88a050365f289a": {
          "model_module": "@jupyter-widgets/controls",
          "model_name": "HBoxModel",
          "model_module_version": "1.5.0",
          "state": {
            "_dom_classes": [],
            "_model_module": "@jupyter-widgets/controls",
            "_model_module_version": "1.5.0",
            "_model_name": "HBoxModel",
            "_view_count": null,
            "_view_module": "@jupyter-widgets/controls",
            "_view_module_version": "1.5.0",
            "_view_name": "HBoxView",
            "box_style": "",
            "children": [
              "IPY_MODEL_ccbf916988f541df8a4f1c47bb80061d",
              "IPY_MODEL_4e6ecf144be94ca8b204e8561e500936",
              "IPY_MODEL_232d358b78634adf9e5119b6d0eafdbb"
            ],
            "layout": "IPY_MODEL_be1ca6c4b48749a29b52430546880bcb"
          }
        },
        "ccbf916988f541df8a4f1c47bb80061d": {
          "model_module": "@jupyter-widgets/controls",
          "model_name": "HTMLModel",
          "model_module_version": "1.5.0",
          "state": {
            "_dom_classes": [],
            "_model_module": "@jupyter-widgets/controls",
            "_model_module_version": "1.5.0",
            "_model_name": "HTMLModel",
            "_view_count": null,
            "_view_module": "@jupyter-widgets/controls",
            "_view_module_version": "1.5.0",
            "_view_name": "HTMLView",
            "description": "",
            "description_tooltip": null,
            "layout": "IPY_MODEL_8453de4684434945a9f1db99151a58da",
            "placeholder": "​",
            "style": "IPY_MODEL_6a7371f54028459a8108921071057b55",
            "value": "100%"
          }
        },
        "4e6ecf144be94ca8b204e8561e500936": {
          "model_module": "@jupyter-widgets/controls",
          "model_name": "FloatProgressModel",
          "model_module_version": "1.5.0",
          "state": {
            "_dom_classes": [],
            "_model_module": "@jupyter-widgets/controls",
            "_model_module_version": "1.5.0",
            "_model_name": "FloatProgressModel",
            "_view_count": null,
            "_view_module": "@jupyter-widgets/controls",
            "_view_module_version": "1.5.0",
            "_view_name": "ProgressView",
            "bar_style": "success",
            "description": "",
            "description_tooltip": null,
            "layout": "IPY_MODEL_188e4a8b64004b25b2c765acb99f072c",
            "max": 45,
            "min": 0,
            "orientation": "horizontal",
            "style": "IPY_MODEL_30e45fd004534218b19a7747588dd468",
            "value": 45
          }
        },
        "232d358b78634adf9e5119b6d0eafdbb": {
          "model_module": "@jupyter-widgets/controls",
          "model_name": "HTMLModel",
          "model_module_version": "1.5.0",
          "state": {
            "_dom_classes": [],
            "_model_module": "@jupyter-widgets/controls",
            "_model_module_version": "1.5.0",
            "_model_name": "HTMLModel",
            "_view_count": null,
            "_view_module": "@jupyter-widgets/controls",
            "_view_module_version": "1.5.0",
            "_view_name": "HTMLView",
            "description": "",
            "description_tooltip": null,
            "layout": "IPY_MODEL_c8a9296908754f268f747749dc430ee9",
            "placeholder": "​",
            "style": "IPY_MODEL_0760e5127220445f9f511f9a48955589",
            "value": " 45/45 [16:21&lt;00:00, 38.62s/it]"
          }
        },
        "be1ca6c4b48749a29b52430546880bcb": {
          "model_module": "@jupyter-widgets/base",
          "model_name": "LayoutModel",
          "model_module_version": "1.2.0",
          "state": {
            "_model_module": "@jupyter-widgets/base",
            "_model_module_version": "1.2.0",
            "_model_name": "LayoutModel",
            "_view_count": null,
            "_view_module": "@jupyter-widgets/base",
            "_view_module_version": "1.2.0",
            "_view_name": "LayoutView",
            "align_content": null,
            "align_items": null,
            "align_self": null,
            "border": null,
            "bottom": null,
            "display": null,
            "flex": null,
            "flex_flow": null,
            "grid_area": null,
            "grid_auto_columns": null,
            "grid_auto_flow": null,
            "grid_auto_rows": null,
            "grid_column": null,
            "grid_gap": null,
            "grid_row": null,
            "grid_template_areas": null,
            "grid_template_columns": null,
            "grid_template_rows": null,
            "height": null,
            "justify_content": null,
            "justify_items": null,
            "left": null,
            "margin": null,
            "max_height": null,
            "max_width": null,
            "min_height": null,
            "min_width": null,
            "object_fit": null,
            "object_position": null,
            "order": null,
            "overflow": null,
            "overflow_x": null,
            "overflow_y": null,
            "padding": null,
            "right": null,
            "top": null,
            "visibility": null,
            "width": null
          }
        },
        "8453de4684434945a9f1db99151a58da": {
          "model_module": "@jupyter-widgets/base",
          "model_name": "LayoutModel",
          "model_module_version": "1.2.0",
          "state": {
            "_model_module": "@jupyter-widgets/base",
            "_model_module_version": "1.2.0",
            "_model_name": "LayoutModel",
            "_view_count": null,
            "_view_module": "@jupyter-widgets/base",
            "_view_module_version": "1.2.0",
            "_view_name": "LayoutView",
            "align_content": null,
            "align_items": null,
            "align_self": null,
            "border": null,
            "bottom": null,
            "display": null,
            "flex": null,
            "flex_flow": null,
            "grid_area": null,
            "grid_auto_columns": null,
            "grid_auto_flow": null,
            "grid_auto_rows": null,
            "grid_column": null,
            "grid_gap": null,
            "grid_row": null,
            "grid_template_areas": null,
            "grid_template_columns": null,
            "grid_template_rows": null,
            "height": null,
            "justify_content": null,
            "justify_items": null,
            "left": null,
            "margin": null,
            "max_height": null,
            "max_width": null,
            "min_height": null,
            "min_width": null,
            "object_fit": null,
            "object_position": null,
            "order": null,
            "overflow": null,
            "overflow_x": null,
            "overflow_y": null,
            "padding": null,
            "right": null,
            "top": null,
            "visibility": null,
            "width": null
          }
        },
        "6a7371f54028459a8108921071057b55": {
          "model_module": "@jupyter-widgets/controls",
          "model_name": "DescriptionStyleModel",
          "model_module_version": "1.5.0",
          "state": {
            "_model_module": "@jupyter-widgets/controls",
            "_model_module_version": "1.5.0",
            "_model_name": "DescriptionStyleModel",
            "_view_count": null,
            "_view_module": "@jupyter-widgets/base",
            "_view_module_version": "1.2.0",
            "_view_name": "StyleView",
            "description_width": ""
          }
        },
        "188e4a8b64004b25b2c765acb99f072c": {
          "model_module": "@jupyter-widgets/base",
          "model_name": "LayoutModel",
          "model_module_version": "1.2.0",
          "state": {
            "_model_module": "@jupyter-widgets/base",
            "_model_module_version": "1.2.0",
            "_model_name": "LayoutModel",
            "_view_count": null,
            "_view_module": "@jupyter-widgets/base",
            "_view_module_version": "1.2.0",
            "_view_name": "LayoutView",
            "align_content": null,
            "align_items": null,
            "align_self": null,
            "border": null,
            "bottom": null,
            "display": null,
            "flex": null,
            "flex_flow": null,
            "grid_area": null,
            "grid_auto_columns": null,
            "grid_auto_flow": null,
            "grid_auto_rows": null,
            "grid_column": null,
            "grid_gap": null,
            "grid_row": null,
            "grid_template_areas": null,
            "grid_template_columns": null,
            "grid_template_rows": null,
            "height": null,
            "justify_content": null,
            "justify_items": null,
            "left": null,
            "margin": null,
            "max_height": null,
            "max_width": null,
            "min_height": null,
            "min_width": null,
            "object_fit": null,
            "object_position": null,
            "order": null,
            "overflow": null,
            "overflow_x": null,
            "overflow_y": null,
            "padding": null,
            "right": null,
            "top": null,
            "visibility": null,
            "width": null
          }
        },
        "30e45fd004534218b19a7747588dd468": {
          "model_module": "@jupyter-widgets/controls",
          "model_name": "ProgressStyleModel",
          "model_module_version": "1.5.0",
          "state": {
            "_model_module": "@jupyter-widgets/controls",
            "_model_module_version": "1.5.0",
            "_model_name": "ProgressStyleModel",
            "_view_count": null,
            "_view_module": "@jupyter-widgets/base",
            "_view_module_version": "1.2.0",
            "_view_name": "StyleView",
            "bar_color": null,
            "description_width": ""
          }
        },
        "c8a9296908754f268f747749dc430ee9": {
          "model_module": "@jupyter-widgets/base",
          "model_name": "LayoutModel",
          "model_module_version": "1.2.0",
          "state": {
            "_model_module": "@jupyter-widgets/base",
            "_model_module_version": "1.2.0",
            "_model_name": "LayoutModel",
            "_view_count": null,
            "_view_module": "@jupyter-widgets/base",
            "_view_module_version": "1.2.0",
            "_view_name": "LayoutView",
            "align_content": null,
            "align_items": null,
            "align_self": null,
            "border": null,
            "bottom": null,
            "display": null,
            "flex": null,
            "flex_flow": null,
            "grid_area": null,
            "grid_auto_columns": null,
            "grid_auto_flow": null,
            "grid_auto_rows": null,
            "grid_column": null,
            "grid_gap": null,
            "grid_row": null,
            "grid_template_areas": null,
            "grid_template_columns": null,
            "grid_template_rows": null,
            "height": null,
            "justify_content": null,
            "justify_items": null,
            "left": null,
            "margin": null,
            "max_height": null,
            "max_width": null,
            "min_height": null,
            "min_width": null,
            "object_fit": null,
            "object_position": null,
            "order": null,
            "overflow": null,
            "overflow_x": null,
            "overflow_y": null,
            "padding": null,
            "right": null,
            "top": null,
            "visibility": null,
            "width": null
          }
        },
        "0760e5127220445f9f511f9a48955589": {
          "model_module": "@jupyter-widgets/controls",
          "model_name": "DescriptionStyleModel",
          "model_module_version": "1.5.0",
          "state": {
            "_model_module": "@jupyter-widgets/controls",
            "_model_module_version": "1.5.0",
            "_model_name": "DescriptionStyleModel",
            "_view_count": null,
            "_view_module": "@jupyter-widgets/base",
            "_view_module_version": "1.2.0",
            "_view_name": "StyleView",
            "description_width": ""
          }
        },
        "04ac542fdf9d4cd39589a8757ac618c3": {
          "model_module": "@jupyter-widgets/controls",
          "model_name": "HBoxModel",
          "model_module_version": "1.5.0",
          "state": {
            "_dom_classes": [],
            "_model_module": "@jupyter-widgets/controls",
            "_model_module_version": "1.5.0",
            "_model_name": "HBoxModel",
            "_view_count": null,
            "_view_module": "@jupyter-widgets/controls",
            "_view_module_version": "1.5.0",
            "_view_name": "HBoxView",
            "box_style": "",
            "children": [
              "IPY_MODEL_c129ecc2644a4b4fa03e28584ad70241",
              "IPY_MODEL_3353431153444a7891863a4d4199b043",
              "IPY_MODEL_00fd5931595c42f482e904c967a95142"
            ],
            "layout": "IPY_MODEL_68f1c888c80d40739264ade4ef7be14f"
          }
        },
        "c129ecc2644a4b4fa03e28584ad70241": {
          "model_module": "@jupyter-widgets/controls",
          "model_name": "HTMLModel",
          "model_module_version": "1.5.0",
          "state": {
            "_dom_classes": [],
            "_model_module": "@jupyter-widgets/controls",
            "_model_module_version": "1.5.0",
            "_model_name": "HTMLModel",
            "_view_count": null,
            "_view_module": "@jupyter-widgets/controls",
            "_view_module_version": "1.5.0",
            "_view_name": "HTMLView",
            "description": "",
            "description_tooltip": null,
            "layout": "IPY_MODEL_4cb5044d857f47b58bfa070e55ef289d",
            "placeholder": "​",
            "style": "IPY_MODEL_731cf26a7a654933a1da9ef4705478d3",
            "value": "100%"
          }
        },
        "3353431153444a7891863a4d4199b043": {
          "model_module": "@jupyter-widgets/controls",
          "model_name": "FloatProgressModel",
          "model_module_version": "1.5.0",
          "state": {
            "_dom_classes": [],
            "_model_module": "@jupyter-widgets/controls",
            "_model_module_version": "1.5.0",
            "_model_name": "FloatProgressModel",
            "_view_count": null,
            "_view_module": "@jupyter-widgets/controls",
            "_view_module_version": "1.5.0",
            "_view_name": "ProgressView",
            "bar_style": "success",
            "description": "",
            "description_tooltip": null,
            "layout": "IPY_MODEL_bbad03c067774b70b0825eaf6c9942af",
            "max": 45,
            "min": 0,
            "orientation": "horizontal",
            "style": "IPY_MODEL_955b8667fd5d458aadbb3e3ff07b97ce",
            "value": 45
          }
        },
        "00fd5931595c42f482e904c967a95142": {
          "model_module": "@jupyter-widgets/controls",
          "model_name": "HTMLModel",
          "model_module_version": "1.5.0",
          "state": {
            "_dom_classes": [],
            "_model_module": "@jupyter-widgets/controls",
            "_model_module_version": "1.5.0",
            "_model_name": "HTMLModel",
            "_view_count": null,
            "_view_module": "@jupyter-widgets/controls",
            "_view_module_version": "1.5.0",
            "_view_name": "HTMLView",
            "description": "",
            "description_tooltip": null,
            "layout": "IPY_MODEL_58524fa32d784d1fbcf2465d8cea0d62",
            "placeholder": "​",
            "style": "IPY_MODEL_3b9601e119fc4697bd6a1a0e3de5ac48",
            "value": " 45/45 [11:09&lt;00:00, 25.30s/it]"
          }
        },
        "68f1c888c80d40739264ade4ef7be14f": {
          "model_module": "@jupyter-widgets/base",
          "model_name": "LayoutModel",
          "model_module_version": "1.2.0",
          "state": {
            "_model_module": "@jupyter-widgets/base",
            "_model_module_version": "1.2.0",
            "_model_name": "LayoutModel",
            "_view_count": null,
            "_view_module": "@jupyter-widgets/base",
            "_view_module_version": "1.2.0",
            "_view_name": "LayoutView",
            "align_content": null,
            "align_items": null,
            "align_self": null,
            "border": null,
            "bottom": null,
            "display": null,
            "flex": null,
            "flex_flow": null,
            "grid_area": null,
            "grid_auto_columns": null,
            "grid_auto_flow": null,
            "grid_auto_rows": null,
            "grid_column": null,
            "grid_gap": null,
            "grid_row": null,
            "grid_template_areas": null,
            "grid_template_columns": null,
            "grid_template_rows": null,
            "height": null,
            "justify_content": null,
            "justify_items": null,
            "left": null,
            "margin": null,
            "max_height": null,
            "max_width": null,
            "min_height": null,
            "min_width": null,
            "object_fit": null,
            "object_position": null,
            "order": null,
            "overflow": null,
            "overflow_x": null,
            "overflow_y": null,
            "padding": null,
            "right": null,
            "top": null,
            "visibility": null,
            "width": null
          }
        },
        "4cb5044d857f47b58bfa070e55ef289d": {
          "model_module": "@jupyter-widgets/base",
          "model_name": "LayoutModel",
          "model_module_version": "1.2.0",
          "state": {
            "_model_module": "@jupyter-widgets/base",
            "_model_module_version": "1.2.0",
            "_model_name": "LayoutModel",
            "_view_count": null,
            "_view_module": "@jupyter-widgets/base",
            "_view_module_version": "1.2.0",
            "_view_name": "LayoutView",
            "align_content": null,
            "align_items": null,
            "align_self": null,
            "border": null,
            "bottom": null,
            "display": null,
            "flex": null,
            "flex_flow": null,
            "grid_area": null,
            "grid_auto_columns": null,
            "grid_auto_flow": null,
            "grid_auto_rows": null,
            "grid_column": null,
            "grid_gap": null,
            "grid_row": null,
            "grid_template_areas": null,
            "grid_template_columns": null,
            "grid_template_rows": null,
            "height": null,
            "justify_content": null,
            "justify_items": null,
            "left": null,
            "margin": null,
            "max_height": null,
            "max_width": null,
            "min_height": null,
            "min_width": null,
            "object_fit": null,
            "object_position": null,
            "order": null,
            "overflow": null,
            "overflow_x": null,
            "overflow_y": null,
            "padding": null,
            "right": null,
            "top": null,
            "visibility": null,
            "width": null
          }
        },
        "731cf26a7a654933a1da9ef4705478d3": {
          "model_module": "@jupyter-widgets/controls",
          "model_name": "DescriptionStyleModel",
          "model_module_version": "1.5.0",
          "state": {
            "_model_module": "@jupyter-widgets/controls",
            "_model_module_version": "1.5.0",
            "_model_name": "DescriptionStyleModel",
            "_view_count": null,
            "_view_module": "@jupyter-widgets/base",
            "_view_module_version": "1.2.0",
            "_view_name": "StyleView",
            "description_width": ""
          }
        },
        "bbad03c067774b70b0825eaf6c9942af": {
          "model_module": "@jupyter-widgets/base",
          "model_name": "LayoutModel",
          "model_module_version": "1.2.0",
          "state": {
            "_model_module": "@jupyter-widgets/base",
            "_model_module_version": "1.2.0",
            "_model_name": "LayoutModel",
            "_view_count": null,
            "_view_module": "@jupyter-widgets/base",
            "_view_module_version": "1.2.0",
            "_view_name": "LayoutView",
            "align_content": null,
            "align_items": null,
            "align_self": null,
            "border": null,
            "bottom": null,
            "display": null,
            "flex": null,
            "flex_flow": null,
            "grid_area": null,
            "grid_auto_columns": null,
            "grid_auto_flow": null,
            "grid_auto_rows": null,
            "grid_column": null,
            "grid_gap": null,
            "grid_row": null,
            "grid_template_areas": null,
            "grid_template_columns": null,
            "grid_template_rows": null,
            "height": null,
            "justify_content": null,
            "justify_items": null,
            "left": null,
            "margin": null,
            "max_height": null,
            "max_width": null,
            "min_height": null,
            "min_width": null,
            "object_fit": null,
            "object_position": null,
            "order": null,
            "overflow": null,
            "overflow_x": null,
            "overflow_y": null,
            "padding": null,
            "right": null,
            "top": null,
            "visibility": null,
            "width": null
          }
        },
        "955b8667fd5d458aadbb3e3ff07b97ce": {
          "model_module": "@jupyter-widgets/controls",
          "model_name": "ProgressStyleModel",
          "model_module_version": "1.5.0",
          "state": {
            "_model_module": "@jupyter-widgets/controls",
            "_model_module_version": "1.5.0",
            "_model_name": "ProgressStyleModel",
            "_view_count": null,
            "_view_module": "@jupyter-widgets/base",
            "_view_module_version": "1.2.0",
            "_view_name": "StyleView",
            "bar_color": null,
            "description_width": ""
          }
        },
        "58524fa32d784d1fbcf2465d8cea0d62": {
          "model_module": "@jupyter-widgets/base",
          "model_name": "LayoutModel",
          "model_module_version": "1.2.0",
          "state": {
            "_model_module": "@jupyter-widgets/base",
            "_model_module_version": "1.2.0",
            "_model_name": "LayoutModel",
            "_view_count": null,
            "_view_module": "@jupyter-widgets/base",
            "_view_module_version": "1.2.0",
            "_view_name": "LayoutView",
            "align_content": null,
            "align_items": null,
            "align_self": null,
            "border": null,
            "bottom": null,
            "display": null,
            "flex": null,
            "flex_flow": null,
            "grid_area": null,
            "grid_auto_columns": null,
            "grid_auto_flow": null,
            "grid_auto_rows": null,
            "grid_column": null,
            "grid_gap": null,
            "grid_row": null,
            "grid_template_areas": null,
            "grid_template_columns": null,
            "grid_template_rows": null,
            "height": null,
            "justify_content": null,
            "justify_items": null,
            "left": null,
            "margin": null,
            "max_height": null,
            "max_width": null,
            "min_height": null,
            "min_width": null,
            "object_fit": null,
            "object_position": null,
            "order": null,
            "overflow": null,
            "overflow_x": null,
            "overflow_y": null,
            "padding": null,
            "right": null,
            "top": null,
            "visibility": null,
            "width": null
          }
        },
        "3b9601e119fc4697bd6a1a0e3de5ac48": {
          "model_module": "@jupyter-widgets/controls",
          "model_name": "DescriptionStyleModel",
          "model_module_version": "1.5.0",
          "state": {
            "_model_module": "@jupyter-widgets/controls",
            "_model_module_version": "1.5.0",
            "_model_name": "DescriptionStyleModel",
            "_view_count": null,
            "_view_module": "@jupyter-widgets/base",
            "_view_module_version": "1.2.0",
            "_view_name": "StyleView",
            "description_width": ""
          }
        }
      }
    }
  },
  "nbformat": 4,
  "nbformat_minor": 0
}